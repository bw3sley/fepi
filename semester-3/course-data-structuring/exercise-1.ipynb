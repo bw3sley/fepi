{
  "nbformat": 4,
  "nbformat_minor": 0,
  "metadata": {
    "colab": {
      "provenance": []
    },
    "kernelspec": {
      "name": "python3",
      "display_name": "Python 3"
    },
    "language_info": {
      "name": "python"
    }
  },
  "cells": [
    {
      "cell_type": "markdown",
      "source": [
        "# Exercício Prático – Usando Listas"
      ],
      "metadata": {
        "id": "Yle3xyDHTsBo"
      }
    },
    {
      "cell_type": "markdown",
      "source": [
        "Considere duas classes: **Pessoa** e **ContaBancaria**. Crie uma classe **Cliente** que associe uma instância de **Pessoa** a uma ou mais instâncias de **ContaBancaria**."
      ],
      "metadata": {
        "id": "1qbeB2L5SCTS"
      }
    },
    {
      "cell_type": "markdown",
      "source": [
        "A classe **Pessoa** deve ter os seguintes atributos:\n",
        "\n",
        "*   **nome**: string com o nome completo da pessoa\n",
        "*   **cpf**: string com o número do CPF da pessoa"
      ],
      "metadata": {
        "id": "g_P7ktSkR1cM"
      }
    },
    {
      "cell_type": "code",
      "execution_count": null,
      "metadata": {
        "id": "BugpVO40OkDG"
      },
      "outputs": [],
      "source": [
        "class Pessoa:\n",
        "  def __init__(self, nome, cpf):\n",
        "    self.nome = nome\n",
        "    self.cpf = cpf"
      ]
    },
    {
      "cell_type": "markdown",
      "source": [
        "A classe **ContaBancaria** deve ter os seguintes atributos:\n",
        "\n",
        "*   **numero**: string com o número da conta bancária\n",
        "*   **saldo**: float com o saldo da conta bancária"
      ],
      "metadata": {
        "id": "B3ZQ9tXDScB-"
      }
    },
    {
      "cell_type": "code",
      "source": [
        "class ContaBancaria:\n",
        "  def __init__(self, numero, saldo):\n",
        "    self.numero = numero\n",
        "    self.saldo = saldo"
      ],
      "metadata": {
        "id": "iw9XF5G7PNWC"
      },
      "execution_count": null,
      "outputs": []
    },
    {
      "cell_type": "markdown",
      "source": [
        "A classe Cliente deve ter os seguintes métodos:\n",
        "\n",
        "*   **__init__(self, pessoa)**: inicializa um novo cliente associando-o à instância de Pessoa fornecida como argumento\n",
        "*   **adicionar_conta(self, conta)**: adiciona uma nova conta bancária à lista de contas do cliente\n",
        "*   **remover_conta(self, conta)**: remove uma conta bancária da lista de contas do cliente\n",
        "*   **total_saldo(self)**: retorna o saldo total de todas as contas do cliente\n"
      ],
      "metadata": {
        "id": "9H9gyxT9SmTS"
      }
    },
    {
      "cell_type": "code",
      "source": [
        "class Cliente:\n",
        "  def __init__(self, pessoa):\n",
        "    self.pessoa = pessoa\n",
        "    self.contas = []\n",
        "\n",
        "  def adicionar_conta(self, conta):\n",
        "    self.contas.append(conta)\n",
        "\n",
        "  def remover_conta(self, conta):\n",
        "    if conta in self.contas:\n",
        "      self.contas.remove(conta)\n",
        "\n",
        "  def total_saldo(self):\n",
        "    total = 0\n",
        "\n",
        "    for conta in self.contas:\n",
        "        total += conta.saldo\n",
        "\n",
        "    return total"
      ],
      "metadata": {
        "id": "1mQ--b3fPcGf"
      },
      "execution_count": null,
      "outputs": []
    },
    {
      "cell_type": "markdown",
      "source": [
        "Em seguida, crie alguns objetos de **Pessoa**, alguns objetos de **ContaBancaria**, crie alguns objetos de **Cliente** associando cada pessoa a uma ou mais contas bancárias e teste seus métodos, adicionando e removendo contas e imprimindo o saldo total de cada cliente."
      ],
      "metadata": {
        "id": "EZPQuul7S8Iu"
      }
    },
    {
      "cell_type": "code",
      "source": [
        "pessoa1 = Pessoa(\"João Silva\", \"12345678910\")\n",
        "pessoa2 = Pessoa(\"Maria Souza\", \"98765432101\")\n",
        "\n",
        "conta1 = ContaBancaria(\"001\", 1000.0)\n",
        "conta2 = ContaBancaria(\"002\", 2000.0)\n",
        "conta3 = ContaBancaria(\"003\", 3000.0)\n",
        "\n",
        "cliente1 = Cliente(pessoa1)\n",
        "cliente1.adicionar_conta(conta1)\n",
        "cliente1.adicionar_conta(conta2)\n",
        "\n",
        "cliente2 = Cliente(pessoa2)\n",
        "cliente2.adicionar_conta(conta3)\n",
        "\n",
        "print(\"Saldo total do Cliente 1: R$\", cliente1.total_saldo())\n",
        "print(\"Saldo total do Cliente 2: R$\", cliente2.total_saldo())\n",
        "\n",
        "cliente1.remover_conta(conta2)\n",
        "\n",
        "print(\"Saldo total do Cliente 1 após remover uma conta: R$\", cliente1.total_saldo())"
      ],
      "metadata": {
        "colab": {
          "base_uri": "https://localhost:8080/"
        },
        "id": "8lCekHZ2RAZX",
        "outputId": "074e0c0f-df32-4c21-c9dc-0fdada361897"
      },
      "execution_count": null,
      "outputs": [
        {
          "output_type": "stream",
          "name": "stdout",
          "text": [
            "Saldo total do Cliente 1: R$ 3000.0\n",
            "Saldo total do Cliente 2: R$ 3000.0\n",
            "Saldo total do Cliente 1 após remover uma conta: R$ 1000.0\n"
          ]
        }
      ]
    },
    {
      "cell_type": "markdown",
      "source": [
        "Em seguida, crie uma lista **lista_pessoas** contendo 5 objetos de **Pessoa**, alguns objetos de **ContaBancaria**, crie alguns objetos de **Cliente** associando cada pessoa a uma ou mais contas bancárias e teste seus métodos, adicionando e removendo contas e imprimindo o saldo total de cada cliente usando um **for** loop."
      ],
      "metadata": {
        "id": "U1S-txTdTEsZ"
      }
    },
    {
      "cell_type": "code",
      "source": [
        "lista_pessoas = []\n",
        "\n",
        "pessoa1 = Pessoa(\"João da Silva\", \"123.456.789-10\")\n",
        "pessoa2 = Pessoa(\"Maria Santos\", \"987.654.321-10\")\n",
        "pessoa3 = Pessoa(\"Pedro Pereira\", \"456.789.123-10\")\n",
        "pessoa4 = Pessoa(\"Ana Oliveira\", \"789.123.456-10\")\n",
        "pessoa5 = Pessoa(\"Carlos Souza\", \"321.654.987-10\")\n",
        "\n",
        "lista_pessoas.extend([pessoa1, pessoa2, pessoa3, pessoa4, pessoa5])\n",
        "\n",
        "conta1 = ContaBancaria(\"001\", 1000.0)\n",
        "conta2 = ContaBancaria(\"002\", 2000.0)\n",
        "conta3 = ContaBancaria(\"003\", 3000.0)\n",
        "conta4 = ContaBancaria(\"004\", 4000.0)\n",
        "conta5 = ContaBancaria(\"005\", -5000.0)\n",
        "\n",
        "cliente1 = Cliente(pessoa1)\n",
        "cliente1.adicionar_conta(conta1)\n",
        "cliente1.adicionar_conta(conta2)\n",
        "cliente1.adicionar_conta(conta3)\n",
        "\n",
        "cliente2 = Cliente(pessoa2)\n",
        "cliente2.adicionar_conta(conta2)\n",
        "cliente2.adicionar_conta(conta3)\n",
        "cliente2.adicionar_conta(conta4)\n",
        "cliente2.remover_conta(conta3)\n",
        "\n",
        "cliente3 = Cliente(pessoa3)\n",
        "cliente3.adicionar_conta(conta3)\n",
        "cliente3.adicionar_conta(conta4)\n",
        "cliente3.adicionar_conta(conta5)\n",
        "\n",
        "cliente4 = Cliente(pessoa4)\n",
        "cliente4.adicionar_conta(conta1)\n",
        "cliente4.adicionar_conta(conta3)\n",
        "\n",
        "cliente5 = Cliente(pessoa5)\n",
        "cliente5.adicionar_conta(conta4)\n",
        "cliente5.adicionar_conta(conta5)\n",
        "\n",
        "clientes = []\n",
        "\n",
        "clientes.extend([cliente1, cliente2, cliente3, cliente4, cliente5])\n",
        "\n",
        "for cliente in clientes:\n",
        "    print(\"Nome do Cliente:\", cliente.pessoa.nome)\n",
        "    print(\"CPF do Cliente:\", cliente.pessoa.cpf)\n",
        "    print(\"Saldo total do Cliente: R$\", cliente.total_saldo(), \"\\n\\n\")"
      ],
      "metadata": {
        "colab": {
          "base_uri": "https://localhost:8080/"
        },
        "id": "R34G1FHmRsAz",
        "outputId": "8254accf-c0fe-4ba4-9c94-85107f323f31"
      },
      "execution_count": null,
      "outputs": [
        {
          "output_type": "stream",
          "name": "stdout",
          "text": [
            "Nome do Cliente: João da Silva\n",
            "CPF do Cliente: 123.456.789-10\n",
            "Saldo total do Cliente: R$ 6000.0 \n",
            "\n",
            "\n",
            "Nome do Cliente: Maria Santos\n",
            "CPF do Cliente: 987.654.321-10\n",
            "Saldo total do Cliente: R$ 6000.0 \n",
            "\n",
            "\n",
            "Nome do Cliente: Pedro Pereira\n",
            "CPF do Cliente: 456.789.123-10\n",
            "Saldo total do Cliente: R$ 2000.0 \n",
            "\n",
            "\n",
            "Nome do Cliente: Ana Oliveira\n",
            "CPF do Cliente: 789.123.456-10\n",
            "Saldo total do Cliente: R$ 4000.0 \n",
            "\n",
            "\n",
            "Nome do Cliente: Carlos Souza\n",
            "CPF do Cliente: 321.654.987-10\n",
            "Saldo total do Cliente: R$ -1000.0 \n",
            "\n",
            "\n"
          ]
        }
      ]
    }
  ]
}