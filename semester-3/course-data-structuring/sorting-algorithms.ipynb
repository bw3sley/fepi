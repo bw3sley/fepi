{
  "nbformat": 4,
  "nbformat_minor": 0,
  "metadata": {
    "colab": {
      "provenance": []
    },
    "kernelspec": {
      "name": "python3",
      "display_name": "Python 3"
    },
    "language_info": {
      "name": "python"
    }
  },
  "cells": [
    {
      "cell_type": "markdown",
      "source": [
        "# Algoritmos de ordenação"
      ],
      "metadata": {
        "id": "F7o6AB4ZhP7a"
      }
    },
    {
      "cell_type": "markdown",
      "source": [
        "Os algoritmos de ordenação são usados para rearranjar uma coleção de dados em uma ordem específica. Eles são importantes porque, em muitos casos, o processamento de dados é muito mais eficiente quando os dados estão organizados de uma certa maneira.\n",
        "\n",
        "Existem vários tipos de algoritmos de ordenação, cada um com suas próprias características e desempenho. Alguns dos principais tipos são:\n",
        "\n",
        "1. **Bubble sort**: Este é um dos algoritmos de ordenação mais simples, mas também um dos menos eficientes. Ele funciona comparando cada par de elementos adjacentes na lista e trocando-os se estiverem na ordem errada.\n",
        "\n",
        "2. **Insertion sort**: Este algoritmo funciona como se estivesse classificando cartas em uma mão. Ele percorre a lista de elementos, inserindo cada elemento em sua posição correta em uma lista separada.\n",
        "\n",
        "3. **Selection sort**: Este algoritmo também é simples, mas um pouco mais eficiente do que o bubble sort. Ele funciona selecionando o menor elemento da lista e movendo-o para o início da lista.\n",
        "\n",
        "4. **Merge sort**: Este algoritmo é mais complexo, mas é mais eficiente do que os três anteriores. Ele funciona dividindo a lista em sub-listas menores, ordenando cada sub-lista e, em seguida, mesclando as sub-listas em uma lista ordenada.\n",
        "\n",
        "5. **Quick sort**: Este algoritmo é um dos mais eficientes, mas também um dos mais complexos. Ele funciona selecionando um elemento como pivô e particionando a lista em dois grupos: um com elementos menores que o pivô e outro com elementos maiores. O processo é repetido recursivamente até que toda a lista esteja ordenada.\n",
        "\n",
        "Existem muitos outros tipos de algoritmos de ordenação, cada um com suas próprias vantagens e desvantagens. A escolha do algoritmo a ser usado depende do tamanho da lista a ser ordenada, da velocidade necessária e das restrições de memória."
      ],
      "metadata": {
        "id": "qQZfRHIGhVVD"
      }
    },
    {
      "cell_type": "markdown",
      "source": [
        "## Bubble Sort"
      ],
      "metadata": {
        "id": "pcPs_Rzncgr0"
      }
    },
    {
      "cell_type": "markdown",
      "source": [
        "Este é um dos algoritmos de ordenação mais simples, mas também um dos menos eficientes. Ele funciona comparando cada par de elementos adjacentes na lista e trocando-os se estiverem na ordem errada."
      ],
      "metadata": {
        "id": "7OSQ9jNPi8Yw"
      }
    },
    {
      "cell_type": "code",
      "execution_count": null,
      "metadata": {
        "id": "RekDXkzxwvND",
        "colab": {
          "base_uri": "https://localhost:8080/"
        },
        "outputId": "610eeb6c-7d33-4c89-c486-7bd0929936a8"
      },
      "outputs": [
        {
          "output_type": "stream",
          "name": "stdout",
          "text": [
            "[2, 3, 4, 5, 8]\n"
          ]
        }
      ],
      "source": [
        "def bubbleSort(array):\n",
        "    tamanhoArray = len(array)\n",
        "\n",
        "    # Loop externo que percorre o array até o seu tamanho\n",
        "    for counter in range(tamanhoArray):\n",
        "        # Loop interno que percorre o array até o seu tamanho diminuído de 1 e subtraído do contador externo\n",
        "        for counter2 in range(0, tamanhoArray-counter-1):\n",
        "            # Verifica se o elemento atual é maior que o próximo elemento\n",
        "            if array[counter2] > array[counter2+1]:\n",
        "                # Se sim, troca os elementos de posição\n",
        "                array[counter2], array[counter2+1] = array[counter2+1], array[counter2]\n",
        "\n",
        "    # Retorna o array ordenado\n",
        "    return array\n",
        "\n",
        "minha_lista = [5, 3, 8, 4, 2]\n",
        "\n",
        "sorted_list = bubbleSort(minha_lista)\n",
        "\n",
        "print(sorted_list)"
      ]
    },
    {
      "cell_type": "markdown",
      "source": [
        "## Insertion Sort"
      ],
      "metadata": {
        "id": "OlnfvLFgeZGW"
      }
    },
    {
      "cell_type": "markdown",
      "source": [
        "Este algoritmo funciona como se estivesse classificando cartas em uma mão. Ele percorre a lista de elementos, inserindo cada elemento em sua posição correta em uma lista separada."
      ],
      "metadata": {
        "id": "W4pWqLQzjBYn"
      }
    },
    {
      "cell_type": "code",
      "source": [
        "def insertionSort(array):\n",
        "    tamanhoArray = len(array)\n",
        "\n",
        "    # percorre o array da segunda posição até o final\n",
        "    for counter in range(1, tamanhoArray):\n",
        "        # armazena o valor atual em uma variável\n",
        "        current_value = array[counter]\n",
        "\n",
        "        # armazena o índice anterior\n",
        "        counter2 = counter - 1\n",
        "\n",
        "        # compara o valor atual com os valores à esquerda\n",
        "        # enquanto o valor à esquerda for maior que o valor atual\n",
        "        # desloca o valor à esquerda para a direita\n",
        "        while counter2 >= 0 and array[counter2] > current_value:\n",
        "            array[counter2 + 1] = array[counter2]\n",
        "            counter2 -= 1\n",
        "        # insere o valor atual na posição correta\n",
        "        array[counter2 + 1] = current_value\n",
        "\n",
        "    return array\n",
        "\n",
        "minha_lista = [5, 3, 8, 4, 2]\n",
        "\n",
        "sorted_list = insertionSort(minha_lista)\n",
        "\n",
        "print(sorted_list)"
      ],
      "metadata": {
        "colab": {
          "base_uri": "https://localhost:8080/"
        },
        "id": "Jw7ewM_3eiDE",
        "outputId": "9145abd5-4ae9-4269-d1a1-9787fe30bca7"
      },
      "execution_count": null,
      "outputs": [
        {
          "output_type": "stream",
          "name": "stdout",
          "text": [
            "[2, 3, 4, 5, 8]\n"
          ]
        }
      ]
    },
    {
      "cell_type": "markdown",
      "source": [
        "## Selection Sort"
      ],
      "metadata": {
        "id": "OOM79MU_iqmJ"
      }
    },
    {
      "cell_type": "markdown",
      "source": [
        "Este algoritmo também é simples, mas um pouco mais eficiente do que o bubble sort. Ele funciona selecionando o menor elemento da lista e movendo-o para o início da lista."
      ],
      "metadata": {
        "id": "N9TYlujHjE8W"
      }
    },
    {
      "cell_type": "code",
      "source": [
        "def selectionSort(array):\n",
        "    tamanhoArray = len(array)\n",
        "\n",
        "    for i in range(tamanhoArray):\n",
        "        # Encontra o valor mínimo no restante do array não ordenado\n",
        "        min_index = i\n",
        "        for j in range(i+1, tamanhoArray):\n",
        "            if array[j] < array[min_index]:\n",
        "                min_index = j\n",
        "\n",
        "        # Troca o valor mínimo com o valor atual\n",
        "        array[i], array[min_index] = array[min_index], array[i]\n",
        "\n",
        "    return array\n",
        "\n",
        "minha_lista = [5, 3, 8, 4, 2]\n",
        "\n",
        "sorted_list = selectionSort(minha_lista)\n",
        "\n",
        "print(sorted_list)"
      ],
      "metadata": {
        "colab": {
          "base_uri": "https://localhost:8080/"
        },
        "id": "z5QpyIXdiJKV",
        "outputId": "8c8ffea5-2a23-4f2c-f0f9-841cba465a25"
      },
      "execution_count": null,
      "outputs": [
        {
          "output_type": "stream",
          "name": "stdout",
          "text": [
            "[2, 3, 4, 5, 8]\n"
          ]
        }
      ]
    },
    {
      "cell_type": "markdown",
      "source": [
        "## Merge Sort"
      ],
      "metadata": {
        "id": "RU4KKAHOfDl9"
      }
    },
    {
      "cell_type": "markdown",
      "source": [
        "Este algoritmo é mais complexo, mas é mais eficiente do que os três anteriores. Ele funciona dividindo a lista em sub-listas menores, ordenando cada sub-lista e, em seguida, mesclando as sub-listas em uma lista ordenada."
      ],
      "metadata": {
        "id": "9gbcyL1yj0wo"
      }
    },
    {
      "cell_type": "code",
      "source": [
        "def mergeSort(array):\n",
        "    if len(array) > 1:\n",
        "        # Dividir o array ao meio\n",
        "        mid = len(array) // 2\n",
        "        left_half = array[:mid]\n",
        "        right_half = array[mid:]\n",
        "\n",
        "        # Recursivamente ordenar as duas metades\n",
        "        mergeSort(left_half)\n",
        "        mergeSort(right_half)\n",
        "\n",
        "        # Merge das duas metades ordenadas\n",
        "        i = j = k = 0\n",
        "        while i < len(left_half) and j < len(right_half):\n",
        "            if left_half[i] < right_half[j]:\n",
        "                array[k] = left_half[i]\n",
        "                i += 1\n",
        "            else:\n",
        "                array[k] = right_half[j]\n",
        "                j += 1\n",
        "            k += 1\n",
        "\n",
        "        # Copiar elementos restantes, se houver, em uma das metades\n",
        "        while i < len(left_half):\n",
        "            array[k] = left_half[i]\n",
        "            i += 1\n",
        "            k += 1\n",
        "\n",
        "        while j < len(right_half):\n",
        "            array[k] = right_half[j]\n",
        "            j += 1\n",
        "            k += 1\n",
        "    return array"
      ],
      "metadata": {
        "id": "Ij9qMBw7g1n2"
      },
      "execution_count": null,
      "outputs": []
    },
    {
      "cell_type": "code",
      "source": [
        "import random\n",
        "\n",
        "# Cria uma lista de 10 números aleatórios\n",
        "lista = [random.randint(0, 100) for i in range(10)]\n",
        "print(\"Lista original:\", lista)\n",
        "\n",
        "# Ordena a lista usando Merge Sort\n",
        "lista_ordenada = mergeSort(lista)\n",
        "print(\"Lista ordenada:\", lista_ordenada)"
      ],
      "metadata": {
        "colab": {
          "base_uri": "https://localhost:8080/"
        },
        "id": "yyqbVBVsg8Rn",
        "outputId": "2505c8d7-c03c-406e-8502-d6f6d59df6f4"
      },
      "execution_count": null,
      "outputs": [
        {
          "output_type": "stream",
          "name": "stdout",
          "text": [
            "Lista original: [18, 36, 78, 86, 49, 24, 72, 96, 45, 25]\n",
            "Lista ordenada: [18, 24, 25, 36, 45, 49, 72, 78, 86, 96]\n"
          ]
        }
      ]
    },
    {
      "cell_type": "markdown",
      "source": [
        "## Quick Sort"
      ],
      "metadata": {
        "id": "GKKsIUI9j6P6"
      }
    },
    {
      "cell_type": "markdown",
      "source": [
        "Este algoritmo é um dos mais eficientes, mas também um dos mais complexos. Ele funciona selecionando um elemento como pivô e particionando a lista em dois grupos: um com elementos menores que o pivô e outro com elementos maiores. O processo é repetido recursivamente até que toda a lista esteja ordenada."
      ],
      "metadata": {
        "id": "Yb8jSUKQj84C"
      }
    },
    {
      "cell_type": "code",
      "source": [
        "def quickSort(array):\n",
        "    # Se o tamanho do array é menor que 2, ele já está ordenado\n",
        "    if len(array) < 2:\n",
        "        return array\n",
        "\n",
        "    # Seleciona o último elemento do array como o pivô\n",
        "    pivot = array[-1]\n",
        "\n",
        "    # Inicializa as listas de elementos menores e maiores que o pivô\n",
        "    smallerElements = []\n",
        "    largerElements = []\n",
        "\n",
        "    # Percorre o array, comparando cada elemento com o pivô\n",
        "    for element in array[:-1]:\n",
        "        # Se o elemento é menor que o pivô, adiciona na lista de menores\n",
        "        if element < pivot:\n",
        "            smallerElements.append(element)\n",
        "        # Caso contrário, adiciona na lista de maiores\n",
        "        else:\n",
        "            largerElements.append(element)\n",
        "\n",
        "    # Recursivamente ordena as listas de menores e maiores\n",
        "    sortedSmaller = quickSort(smallerElements)\n",
        "    sortedLarger = quickSort(largerElements)\n",
        "\n",
        "    # Retorna a lista ordenada: menores + pivô + maiores\n",
        "    return sortedSmaller + [pivot] + sortedLarger\n",
        "\n",
        "# Teste do algoritmo\n",
        "minha_lista = [5, 3, 8, 4, 2]\n",
        "\n",
        "sorted_list = quickSort(minha_lista)\n",
        "\n",
        "print(sorted_list)"
      ],
      "metadata": {
        "colab": {
          "base_uri": "https://localhost:8080/"
        },
        "id": "TaO4a0EokA2J",
        "outputId": "7dcff6b1-327c-44d1-f699-252bc2702642"
      },
      "execution_count": null,
      "outputs": [
        {
          "output_type": "stream",
          "name": "stdout",
          "text": [
            "[2, 3, 4, 5, 8]\n"
          ]
        }
      ]
    }
  ]
}