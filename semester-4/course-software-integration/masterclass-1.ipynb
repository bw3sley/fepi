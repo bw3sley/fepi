{
  "nbformat": 4,
  "nbformat_minor": 0,
  "metadata": {
    "colab": {
      "provenance": []
    },
    "kernelspec": {
      "name": "python3",
      "display_name": "Python 3"
    },
    "language_info": {
      "name": "python"
    }
  },
  "cells": [
    {
      "cell_type": "code",
      "execution_count": null,
      "metadata": {
        "id": "9uY3Z6TX8THM"
      },
      "outputs": [],
      "source": [
        "import json;\n",
        "\n",
        "user_data = {\n",
        "  \"id\": 1,\n",
        "  \"name\": \"Gabriel\",\n",
        "  \"email\": \"gabriel@example.com\"\n",
        "}\n",
        "\n",
        "json_data = json.dumps(user_data);"
      ]
    },
    {
      "cell_type": "code",
      "source": [
        "import requests;\n",
        "\n",
        "url = \"https://jsonplaceholder.typicode.com/posts/2\";\n",
        "\n",
        "response = requests.get(url);\n",
        "\n",
        "post_data = response.json();\n",
        "\n",
        "print(\"Id: \", post_data[\"id\"]);\n",
        "print(\"Title: \", post_data[\"title\"]);\n",
        "print(\"Body: \", post_data[\"body\"]);"
      ],
      "metadata": {
        "colab": {
          "base_uri": "https://localhost:8080/"
        },
        "id": "bpPOVMVu-TJE",
        "outputId": "d4f146d4-2b45-4141-a3ca-cf820a04b704"
      },
      "execution_count": null,
      "outputs": [
        {
          "output_type": "stream",
          "name": "stdout",
          "text": [
            "Id:  2\n",
            "Title:  qui est esse\n",
            "Body:  est rerum tempore vitae\n",
            "sequi sint nihil reprehenderit dolor beatae ea dolores neque\n",
            "fugiat blanditiis voluptate porro vel nihil molestiae ut reiciendis\n",
            "qui aperiam non debitis possimus qui neque nisi nulla\n"
          ]
        }
      ]
    },
    {
      "cell_type": "code",
      "source": [
        "import requests;\n",
        "\n",
        "def getPost(postId):\n",
        "  if (postId <= 0):\n",
        "    return print(\"O número não é válido\");\n",
        "\n",
        "  url = f\"https://jsonplaceholder.typicode.com/posts/{postId}\";\n",
        "\n",
        "  response = requests.get(url);\n",
        "\n",
        "  post_data = response.json();\n",
        "\n",
        "  print(\"Id: \", post_data[\"id\"]);\n",
        "  print(\"Title: \", post_data[\"title\"]);\n",
        "  print(\"Body: \", post_data[\"body\"]);\n",
        "\n",
        "postId = int(input(\"Digite um número: \"));\n",
        "getPost(postId);"
      ],
      "metadata": {
        "colab": {
          "base_uri": "https://localhost:8080/"
        },
        "id": "25ie4axYBFPq",
        "outputId": "f717c8b5-fb9b-461e-ab4a-e79ef3c8e225"
      },
      "execution_count": null,
      "outputs": [
        {
          "output_type": "stream",
          "name": "stdout",
          "text": [
            "Digite um número: 19\n",
            "Id:  19\n",
            "Title:  adipisci placeat illum aut reiciendis qui\n",
            "Body:  illum quis cupiditate provident sit magnam\n",
            "ea sed aut omnis\n",
            "veniam maiores ullam consequatur atque\n",
            "adipisci quo iste expedita sit quos voluptas\n"
          ]
        }
      ]
    },
    {
      "cell_type": "code",
      "source": [
        "import requests;\n",
        "\n",
        "def createNewPost(post):\n",
        "  url = \"https://jsonplaceholder.typicode.com/posts\";\n",
        "\n",
        "  response = requests.post(url, json=post);\n",
        "\n",
        "  created_post = response.json();\n",
        "\n",
        "  print(f\"201 - Post criado\");\n",
        "\n",
        "newPost = {\n",
        "    \"id\": 1,\n",
        "    \"title\": \"Opa, bão?\",\n",
        "    \"body\": \"Conteúdo quentinho do novo post!\"\n",
        "}\n",
        "\n",
        "createNewPost(newPost);"
      ],
      "metadata": {
        "colab": {
          "base_uri": "https://localhost:8080/"
        },
        "id": "083D0LY8G7Vz",
        "outputId": "8ff14207-ee1b-441d-ca5f-33fc87ca52c0"
      },
      "execution_count": null,
      "outputs": [
        {
          "output_type": "stream",
          "name": "stdout",
          "text": [
            "201 - Post criado\n",
            "Id:  101\n",
            "Title:  Opa, bão?\n",
            "Body:  Conteúdo quentinho do novo post!\n"
          ]
        }
      ]
    },
    {
      "cell_type": "code",
      "source": [
        "import requests;\n",
        "\n",
        "def updatePost(post):\n",
        "  url = f\"https://jsonplaceholder.typicode.com/posts/{post['id']}\";\n",
        "\n",
        "  response = requests.put(url, json={\n",
        "      \"title\": post['title'],\n",
        "      \"body\": post[\"body\"]\n",
        "  });\n",
        "\n",
        "  updated_post = response.json();\n",
        "\n",
        "  print(\"200 - Post atualizado\");\n",
        "\n",
        "post = {\n",
        "    \"id\": 1,\n",
        "    \"title\": \"Opa, bão?\",\n",
        "    \"body\": \"Conteúdo quentinho do novo post!\"\n",
        "}\n",
        "\n",
        "updatePost(post);"
      ],
      "metadata": {
        "colab": {
          "base_uri": "https://localhost:8080/"
        },
        "id": "NJPZ9jeKHyBv",
        "outputId": "9e56a20d-b091-495a-d35c-8bc2390fbd63"
      },
      "execution_count": null,
      "outputs": [
        {
          "output_type": "stream",
          "name": "stdout",
          "text": [
            "200 - Post atualizado\n",
            "Id:  1\n",
            "Title:  Opa, bão?\n",
            "Body:  Conteúdo quentinho do novo post!\n"
          ]
        }
      ]
    },
    {
      "cell_type": "code",
      "source": [
        "import requests;\n",
        "\n",
        "def deletePost(id):\n",
        "  url = f\"https://jsonplaceholder.typicode.com/posts/{id}\";\n",
        "\n",
        "  response = requests.delete(url);\n",
        "\n",
        "  deleted_post = response.json();\n",
        "\n",
        "  print(\"200 - Post deletado\");\n",
        "\n",
        "postId = int(input(\"Digite o Id do posto que você deseja deletar: \"));\n",
        "\n",
        "deletePost(postId);"
      ],
      "metadata": {
        "colab": {
          "base_uri": "https://localhost:8080/"
        },
        "id": "f7lVPuRRKtqx",
        "outputId": "b9df24af-005e-430b-ab37-21585e8f2c4d"
      },
      "execution_count": null,
      "outputs": [
        {
          "output_type": "stream",
          "name": "stdout",
          "text": [
            "Digite o Id do posto que você deseja deletar: 10\n",
            "200 - Post deletado\n"
          ]
        }
      ]
    }
  ]
}