{
  "cells": [
    {
      "cell_type": "markdown",
      "metadata": {
        "id": "8_xHAUzUl-Z0"
      },
      "source": [
        "from tensorflow.keras.datasets import fashion_mnist\n",
        "\n",
        "import matplotlib.pyplot as plt\n",
        "%matplotlib inline"
      ]
    },
    {
      "cell_type": "code",
      "execution_count": null,
      "metadata": {
        "colab": {
          "base_uri": "https://localhost:8080/"
        },
        "id": "ys7H5ZdQsctI",
        "outputId": "6ea890ba-27e7-4da9-bc33-faf2eaef21bf"
      },
      "outputs": [
        {
          "name": "stdout",
          "output_type": "stream",
          "text": [
            "Downloading data from https://storage.googleapis.com/tensorflow/tf-keras-datasets/train-labels-idx1-ubyte.gz\n",
            "29515/29515 [==============================] - 0s 0us/step\n",
            "Downloading data from https://storage.googleapis.com/tensorflow/tf-keras-datasets/train-images-idx3-ubyte.gz\n",
            "26421880/26421880 [==============================] - 1s 0us/step\n",
            "Downloading data from https://storage.googleapis.com/tensorflow/tf-keras-datasets/t10k-labels-idx1-ubyte.gz\n",
            "5148/5148 [==============================] - 0s 0us/step\n",
            "Downloading data from https://storage.googleapis.com/tensorflow/tf-keras-datasets/t10k-images-idx3-ubyte.gz\n",
            "4422102/4422102 [==============================] - 0s 0us/step\n"
          ]
        }
      ],
      "source": [
        "(X_train, Y_train), (X_test, Y_test) = fashion_mnist.load_data()"
      ]
    },
    {
      "cell_type": "code",
      "execution_count": null,
      "metadata": {
        "colab": {
          "base_uri": "https://localhost:8080/"
        },
        "id": "xrAoK-fnsu8A",
        "outputId": "ff79bd08-0fab-4631-b119-4840f95045aa"
      },
      "outputs": [
        {
          "name": "stdout",
          "output_type": "stream",
          "text": [
            "Fashion MNIST Dataset Shape:\n",
            "X_train: (60000, 28, 28)\n",
            "Y_train: (60000,)\n",
            "X_test: (10000, 28, 28)\n",
            "Y_test: (10000,)\n"
          ]
        }
      ],
      "source": [
        "print(\"Fashion MNIST Dataset Shape:\")\n",
        "print(\"X_train: \" + str(X_train.shape))\n",
        "print(\"Y_train: \" + str(Y_train.shape))\n",
        "print(\"X_test: \" + str(X_test.shape))\n",
        "print(\"Y_test: \" + str(Y_test.shape))"
      ]
    },
    {
      "cell_type": "code",
      "execution_count": null,
      "metadata": {
        "colab": {
          "base_uri": "https://localhost:8080/",
          "height": 265
        },
        "id": "t_J-HCFDtZ4s",
        "outputId": "825032bf-6d95-4f22-c3b0-12a94edda45b"
      },
      "outputs": [
        {
          "data": {
            "image/png": "[encoded data removed]",
            "text/plain": [
              "<Figure size 432x288 with 1 Axes>"
            ]
          },
          "metadata": {
            "needs_background": "light"
          },
          "output_type": "display_data"
        }
      ],
      "source": [
        "sample = 20\n",
        "image = X_train[sample]\n",
        "\n",
        "fig = plt.figure\n",
        "plt.imshow(image, cmap = \"plasma\")\n",
        "plt.show()"
      ]
    },
    {
      "cell_type": "code",
      "execution_count": null,
      "metadata": {
        "id": "isLKTuRL1IUp"
      },
      "outputs": [],
      "source": [
        "linhas, colunas = 28, 28\n",
        "\n",
        "X_train = X_train.reshape(X_train.shape[0], linhas*colunas)\n",
        "X_test = X_test.reshape(X_test.shape[0], linhas*colunas)\n",
        "\n",
        "# train_data = train_data.astype(\"float32\")\n",
        "# test_data = test_data.astype(\"float32\")"
      ]
    },
    {
      "cell_type": "code",
      "execution_count": null,
      "metadata": {
        "id": "rzlZ2eon2K4Q"
      },
      "outputs": [],
      "source": [
        "from sklearn.discriminant_analysis import LinearDiscriminantAnalysis\n",
        "\n",
        "from sklearn.metrics import accuracy_score"
      ]
    },
    {
      "cell_type": "code",
      "execution_count": null,
      "metadata": {
        "colab": {
          "base_uri": "https://localhost:8080/"
        },
        "id": "qXokfcWx2u6k",
        "outputId": "65395bc3-c064-4bdf-c990-dfc62165ee4d"
      },
      "outputs": [
        {
          "name": "stdout",
          "output_type": "stream",
          "text": [
            "Resultado  0.8325833333333333\n"
          ]
        },
        {
          "data": {
            "text/plain": [
              "LinearDiscriminantAnalysis()"
            ]
          },
          "execution_count": 12,
          "metadata": {},
          "output_type": "execute_result"
        }
      ],
      "source": [
        "rede_neural = LinearDiscriminantAnalysis()\n",
        "rede_neural.fit(X_train, Y_train)\n",
        "\n",
        "y_previsto = rede_neural.predict(X_train)\n",
        "resultado = accuracy_score(Y_train, y_previsto)\n",
        "print(\"Resultado \", resultado)\n",
        "\n",
        "LinearDiscriminantAnalysis()"
      ]
    }
  ],
  "metadata": {
    "colab": {
      "provenance": []
    },
    "kernelspec": {
      "display_name": "Python 3",
      "name": "python3"
    },
    "language_info": {
      "name": "python"
    }
  },
  "nbformat": 4,
  "nbformat_minor": 0
}
