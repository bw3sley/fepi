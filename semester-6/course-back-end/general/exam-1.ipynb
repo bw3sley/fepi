{
 "cells": [
  {
   "cell_type": "markdown",
   "metadata": {},
   "source": [
    "# Exam 1\n",
    "\n",
    "1. Muitos alunos da FEPI conseguiram bolsas e irão viajar em breve pelo programa Ciência sem Fronteiras. Alguns deles estão indo para os Estados Unidos e gostariam de sua ajuda: eles precisam de um programa que faça a conversão de dólares para reais! Sem sua ajuda eles irão acabar se perdendo em suas finanças e terão que lavar muitos pratos para vir embora.​ Siga os passos:​​\n",
    "\n",
    "- Peça para que o usuário entre com um valor em dólares (print);​\n",
    "- Guarde este valor na variável correspondente (input);​\n",
    "- Faça o cálculo do valor em reais, utilizando a seguinte taxa de câmbio: US$ 1 = R$ 5,50.​\n",
    "- Imprima na tela o valor calculado em reais (print).​​"
   ]
  },
  {
   "cell_type": "code",
   "execution_count": null,
   "metadata": {},
   "outputs": [],
   "source": [
    "def converter_dolar_para_real(valor_dolar):\n",
    "    taxa_cambio = 5.50  # Taxa de câmbio fixa\n",
    "    valor_real = valor_dolar * taxa_cambio\n",
    "    return valor_real\n",
    "\n",
    "def main():\n",
    "    try:\n",
    "        # Solicita que o usuário entre com o valor em dólares\n",
    "        valor_dolar = float(input(\"Digite o valor em dólares: \"))\n",
    "        \n",
    "        # Chama a função para converter e imprime o valor em reais\n",
    "        valor_real = converter_dolar_para_real(valor_dolar)\n",
    "        print(f\"O valor convertido em reais é: R$ {valor_real:.2f}\")\n",
    "    except ValueError:\n",
    "        print(\"Por favor, insira um valor numérico válido.\")\n",
    "\n",
    "if __name__ == \"__main__\":\n",
    "    main()"
   ]
  },
  {
   "cell_type": "markdown",
   "metadata": {},
   "source": [
    "2. Modifique o programa anterior, de maneira que o usuário também consiga entrar com a taxa de câmbio do dia. Mude o cálculo para utilizar o valor guardado na variável ao invés do valor fixo de R$ 5,50."
   ]
  },
  {
   "cell_type": "code",
   "execution_count": null,
   "metadata": {},
   "outputs": [],
   "source": [
    "def converter_dolar_para_real(valor_dolar, taxa_cambio):\n",
    "    valor_real = valor_dolar * taxa_cambio\n",
    "    return valor_real\n",
    "\n",
    "def main():\n",
    "    try:\n",
    "        # Solicita que o usuário entre com o valor em dólares e a taxa de câmbio\n",
    "        valor_dolar = float(input(\"Digite o valor em dólares: \"))\n",
    "        taxa_cambio = float(input(\"Digite a taxa de câmbio atual: \"))\n",
    "        \n",
    "        # Chama a função para converter e imprime o valor em reais\n",
    "        valor_real = converter_dolar_para_real(valor_dolar, taxa_cambio)\n",
    "        print(f\"O valor convertido em reais é: R$ {valor_real:.2f}\")\n",
    "    except ValueError:\n",
    "        print(\"Por favor, insira valores numéricos válidos.\")\n",
    "\n",
    "if __name__ == \"__main__\":\n",
    "    main()"
   ]
  },
  {
   "cell_type": "markdown",
   "metadata": {},
   "source": [
    "3. Escreva um programa Python que faça uma operação aritmética básica entre dois números. O usuário deve ser solicitado a inserir dois números e a operação que deseja realizar (soma, subtração, multiplicação ou divisão). Seu programa deve então exibir o resultado da operação. Considere o caso de uma divisão por zero.​"
   ]
  },
  {
   "cell_type": "code",
   "execution_count": null,
   "metadata": {},
   "outputs": [],
   "source": [
    "def realizar_operacao(numero1, numero2, operacao):\n",
    "    if operacao == 'soma':\n",
    "        return numero1 + numero2\n",
    "    elif operacao == 'subtracao':\n",
    "        return numero1 - numero2\n",
    "    elif operacao == 'multiplicacao':\n",
    "        return numero1 * numero2\n",
    "    elif operacao == 'divisao':\n",
    "        if numero2 != 0:\n",
    "            return numero1 / numero2\n",
    "        else:\n",
    "            return \"Erro: Divisão por zero não permitida.\"\n",
    "    else:\n",
    "        return \"Operação inválida. Escolha entre: soma, subtracao, multiplicacao, divisao.\"\n",
    "\n",
    "def main():\n",
    "    try:\n",
    "        # Solicita que o usuário insira dois números\n",
    "        numero1 = float(input(\"Digite o primeiro número: \"))\n",
    "        numero2 = float(input(\"Digite o segundo número: \"))\n",
    "        \n",
    "        # Solicita que o usuário escolha a operação\n",
    "        operacao = input(\"Digite a operação desejada (soma, subtracao, multiplicacao, divisao): \").lower()\n",
    "\n",
    "        # Realiza a operação e imprime o resultado\n",
    "        resultado = realizar_operacao(numero1, numero2, operacao)\n",
    "        print(f\"Resultado: {resultado}\")\n",
    "    except ValueError:\n",
    "        print(\"Erro: Por favor, insira números válidos.\")\n",
    "\n",
    "if __name__ == \"__main__\":\n",
    "    main()"
   ]
  },
  {
   "cell_type": "markdown",
   "metadata": {},
   "source": [
    "4. Escreva um programa que solicite ao usuário para criar uma nova senha. A senha deve atender aos seguintes requisitos: ter pelo menos 8 caracteres, conter pelo menos uma letra minúscula, uma letra maiúscula e um número. Se a senha atender a esses critérios, seu programa deve imprimir \"Senha válida\". Caso contrário, ele deve imprimir uma mensagem informando o usuário sobre o critério que a senha não atendeu.​"
   ]
  },
  {
   "cell_type": "code",
   "execution_count": null,
   "metadata": {},
   "outputs": [],
   "source": [
    "import re\n",
    "\n",
    "def validar_senha(senha):\n",
    "    if len(senha) < 8:\n",
    "        return \"Erro: A senha deve ter pelo menos 8 caracteres.\"\n",
    "    \n",
    "    if not re.search(\"[a-z]\", senha):\n",
    "        return \"Erro: A senha deve conter pelo menos uma letra minúscula.\"\n",
    "    \n",
    "    if not re.search(\"[A-Z]\", senha):\n",
    "        return \"Erro: A senha deve conter pelo menos uma letra maiúscula.\"\n",
    "    \n",
    "    if not re.search(\"[0-9]\", senha):\n",
    "        return \"Erro: A senha deve conter pelo menos um número.\"\n",
    "    \n",
    "    return \"Senha válida\"\n",
    "\n",
    "def main():\n",
    "    # Solicita que o usuário crie uma nova senha\n",
    "    senha = input(\"Crie uma nova senha: \")\n",
    "    \n",
    "    # Valida a senha e imprime o resultado\n",
    "    resultado = validar_senha(senha)\n",
    "    print(resultado)\n",
    "\n",
    "if __name__ == \"__main__\":\n",
    "    main()"
   ]
  },
  {
   "cell_type": "markdown",
   "metadata": {},
   "source": [
    "5. Desenvolva um programa Python para um jogo de adivinhação. O programa deve gerar aleatoriamente um número entre 1 e 100, e o usuário tem que adivinhá-lo. Depois de cada tentativa, o programa deve dizer ao usuário se o número que eles adivinharam é muito alto, muito baixo, ou correto. Além disso, o programa deve acompanhar o número de tentativas que o usuário levou para adivinhar corretamente e exibir esta informação quando o usuário adivinhar corretamente.​"
   ]
  },
  {
   "cell_type": "code",
   "execution_count": null,
   "metadata": {},
   "outputs": [],
   "source": [
    "import random\n",
    "\n",
    "def jogo_adivinhacao():\n",
    "    # Gera um número aleatório entre 1 e 100\n",
    "    numero_aleatorio = random.randint(1, 100)\n",
    "    tentativas = 0\n",
    "    acertou = False\n",
    "    \n",
    "    print(\"Bem-vindo ao jogo de adivinhação!\")\n",
    "    print(\"Tente adivinhar o número entre 1 e 100.\")\n",
    "\n",
    "    while not acertou:\n",
    "        try:\n",
    "            # Solicita que o usuário insira seu palpite\n",
    "            palpite = int(input(\"Digite seu palpite: \"))\n",
    "            tentativas += 1\n",
    "\n",
    "            # Verifica se o palpite está correto, muito alto ou muito baixo\n",
    "            if palpite < numero_aleatorio:\n",
    "                print(\"Muito baixo!\")\n",
    "            elif palpite > numero_aleatorio:\n",
    "                print(\"Muito alto!\")\n",
    "            else:\n",
    "                acertou = True\n",
    "                print(f\"Parabéns! Você adivinhou o número em {tentativas} tentativas.\")\n",
    "        except ValueError:\n",
    "            print(\"Por favor, insira um número válido.\")\n",
    "\n",
    "if __name__ == \"__main__\":\n",
    "    jogo_adivinhacao()"
   ]
  },
  {
   "cell_type": "markdown",
   "metadata": {},
   "source": [
    "6. Faça um programa que receba um número real. Caso ele seja positivo, calcule e mostre o número digitado ao quadrado, e a raiz quadrada do mesmo número. Caso ele seja nulo ou negativo, exiba essa informação na tela para o usuário."
   ]
  },
  {
   "cell_type": "code",
   "execution_count": null,
   "metadata": {},
   "outputs": [],
   "source": [
    "import math\n",
    "\n",
    "def calcular_quadrado_ou_raiz(numero):\n",
    "    if numero > 0:\n",
    "        quadrado = numero ** 2\n",
    "        raiz_quadrada = math.sqrt(numero)\n",
    "        print(f\"O número {numero} ao quadrado é: {quadrado:.2f}\")\n",
    "        print(f\"A raiz quadrada de {numero} é: {raiz_quadrada:.2f}\")\n",
    "    elif numero == 0:\n",
    "        print(\"O número digitado é nulo.\")\n",
    "    else:\n",
    "        print(\"O número é negativo, não é possível calcular o quadrado ou raiz.\")\n",
    "\n",
    "def main():\n",
    "    try:\n",
    "        # Solicita que o usuário insira um número real\n",
    "        numero = float(input(\"Digite um número real: \"))\n",
    "        \n",
    "        # Chama a função para calcular e exibir os resultados\n",
    "        calcular_quadrado_ou_raiz(numero)\n",
    "    except ValueError:\n",
    "        print(\"Erro: Por favor, insira um número válido.\")\n",
    "\n",
    "if __name__ == \"__main__\":\n",
    "    main()"
   ]
  },
  {
   "attachments": {
    "image.png": {
     "image/png": "[encoded data removed]"
    }
   },
   "cell_type": "markdown",
   "metadata": {},
   "source": [
    "7. Faça um programa em que, dada a idade de um nadador, o classifique em uma das categorias listadas na tabela abaixo. Imprima o resultado na tela.\n",
    "\n",
    "![image.png](attachment:image.png)"
   ]
  },
  {
   "cell_type": "code",
   "execution_count": null,
   "metadata": {},
   "outputs": [],
   "source": [
    "def classificar_nadador(idade):\n",
    "    if 5 <= idade <= 7:\n",
    "        return \"Infantil A\"\n",
    "    elif 8 <= idade <= 10:\n",
    "        return \"Infantil B\"\n",
    "    elif 11 <= idade <= 13:\n",
    "        return \"Juvenil A\"\n",
    "    elif 14 <= idade <= 17:\n",
    "        return \"Juvenil B\"\n",
    "    elif idade >= 18:\n",
    "        return \"Sênior\"\n",
    "    else:\n",
    "        return \"Idade fora das categorias.\"\n",
    "\n",
    "def main():\n",
    "    try:\n",
    "        # Solicita a idade do nadador\n",
    "        idade = int(input(\"Digite a idade do nadador: \"))\n",
    "        \n",
    "        # Classifica e imprime a categoria\n",
    "        categoria = classificar_nadador(idade)\n",
    "        print(f\"O nadador está classificado na categoria: {categoria}\")\n",
    "    except ValueError:\n",
    "        print(\"Erro: Por favor, insira uma idade válida.\")\n",
    "\n",
    "if __name__ == \"__main__\":\n",
    "    main()"
   ]
  },
  {
   "cell_type": "markdown",
   "metadata": {},
   "source": [
    "8. Faça a implementação do jogo pedra-papel-tesoura. O jogo imprime \"VITÓRIA :-)\", \"EMPATE :-|\" ou \"DERROTA :-(\" dependendo da escolha do jogador comparada a opção sorteada aleatoriamente para o computador. ​\n",
    "\n",
    "Utilize os números 1, 2 e 3 como pedra, papel e tesoura, respectivamente, para padronizar; ​\n",
    "\n",
    "Para simular o computador jogando, utilize as funções rand. Pesquise como fazer; ​\n",
    "\n",
    "Neste jogo: pedra ganha de tesoura, que ganha de papel, que ganha de pedra.​"
   ]
  },
  {
   "cell_type": "code",
   "execution_count": null,
   "metadata": {},
   "outputs": [],
   "source": [
    "import random\n",
    "\n",
    "def jogar_pedra_papel_tesoura(jogador):\n",
    "    # 1 = Pedra, 2 = Papel, 3 = Tesoura\n",
    "    opcoes = {1: \"Pedra\", 2: \"Papel\", 3: \"Tesoura\"}\n",
    "    \n",
    "    # Computador faz uma escolha aleatória entre 1, 2 ou 3\n",
    "    computador = random.randint(1, 3)\n",
    "    \n",
    "    print(f\"Você escolheu: {opcoes[jogador]}\")\n",
    "    print(f\"O computador escolheu: {opcoes[computador]}\")\n",
    "    \n",
    "    # Verifica o resultado do jogo\n",
    "    if jogador == computador:\n",
    "        return \"EMPATE :-|\"\n",
    "    elif (jogador == 1 and computador == 3) or (jogador == 2 and computador == 1) or (jogador == 3 and computador == 2):\n",
    "        return \"VITÓRIA :-)\"\n",
    "    else:\n",
    "        return \"DERROTA :-(\"\n",
    "\n",
    "def main():\n",
    "    try:\n",
    "        # Solicita que o jogador escolha entre Pedra (1), Papel (2) ou Tesoura (3)\n",
    "        print(\"Escolha uma opção:\")\n",
    "        print(\"1 - Pedra\")\n",
    "        print(\"2 - Papel\")\n",
    "        print(\"3 - Tesoura\")\n",
    "        \n",
    "        jogador = int(input(\"Digite o número correspondente à sua escolha: \"))\n",
    "        \n",
    "        # Verifica se a escolha é válida\n",
    "        if jogador not in [1, 2, 3]:\n",
    "            print(\"Escolha inválida. Escolha 1, 2 ou 3.\")\n",
    "        else:\n",
    "            # Chama a função para jogar e imprime o resultado\n",
    "            resultado = jogar_pedra_papel_tesoura(jogador)\n",
    "            print(resultado)\n",
    "    except ValueError:\n",
    "        print(\"Erro: Por favor, insira um número válido (1, 2 ou 3).\")\n",
    "\n",
    "if __name__ == \"__main__\":\n",
    "    main()"
   ]
  },
  {
   "cell_type": "markdown",
   "metadata": {},
   "source": [
    "9. Escreva um programa que receba do usuário os valores das dimensões dos três lados de um triângulo. A seguir, o programa deve analisar estes dados e identificar o tipo de triângulo formado por aqueles valores: equilátero, isósceles ou escaleno. ​\n",
    "\n",
    "- Equilátero: três lados iguais; ​\n",
    "- Isósceles: dois lados iguais; ​\n",
    "- Escaleno: cada lado é diferente um do outro; ​\n",
    "- Inválido: dois lados quaisquer, somados, são menores ou iguais ao lado restante.​"
   ]
  },
  {
   "cell_type": "code",
   "execution_count": null,
   "metadata": {},
   "outputs": [],
   "source": [
    "def tipo_triangulo(lado1, lado2, lado3):\n",
    "    # Verifica se os lados formam um triângulo válido\n",
    "    if (lado1 + lado2 > lado3) and (lado1 + lado3 > lado2) and (lado2 + lado3 > lado1):\n",
    "        if lado1 == lado2 == lado3:\n",
    "            return \"Triângulo Equilátero\"\n",
    "        elif lado1 == lado2 or lado1 == lado3 or lado2 == lado3:\n",
    "            return \"Triângulo Isósceles\"\n",
    "        else:\n",
    "            return \"Triângulo Escaleno\"\n",
    "    else:\n",
    "        return \"Triângulo Inválido\"\n",
    "\n",
    "def main():\n",
    "    try:\n",
    "        # Solicita que o usuário insira os três lados do triângulo\n",
    "        lado1 = float(input(\"Digite o valor do primeiro lado: \"))\n",
    "        lado2 = float(input(\"Digite o valor do segundo lado: \"))\n",
    "        lado3 = float(input(\"Digite o valor do terceiro lado: \"))\n",
    "        \n",
    "        # Chama a função para verificar o tipo de triângulo e imprime o resultado\n",
    "        resultado = tipo_triangulo(lado1, lado2, lado3)\n",
    "        print(f\"Resultado: {resultado}\")\n",
    "    except ValueError:\n",
    "        print(\"Erro: Por favor, insira valores numéricos válidos.\")\n",
    "\n",
    "if __name__ == \"__main__\":\n",
    "    main()"
   ]
  },
  {
   "attachments": {
    "image.png": {
     "image/png": "[encoded data removed]"
    }
   },
   "cell_type": "markdown",
   "metadata": {},
   "source": [
    "10. Discuta o que o trecho de código abaixo faz:​\n",
    "\n",
    "![image.png](attachment:image.png)\n",
    "\n",
    "O trecho de código fornecido faz o seguinte:\n",
    "\n",
    "1. **Lista de carros**: O código define uma lista chamada `carros` que contém três elementos: `\"Gol\"`, `\"Argo\"`, e `\"Fusca\"`. Essa lista armazena os nomes de carros.\n",
    "\n",
    "```python\n",
    "carros = [\"Gol\", \"Argo\", \"Fusca\"]\n",
    "```\n",
    "\n",
    "2. **Laço `for` com `enumerate()`**: O laço `for` utiliza a função `enumerate()` para iterar sobre a lista de carros. A função `enumerate()` retorna tanto o **índice** de cada elemento da lista quanto o próprio **valor** (o nome do carro, nesse caso).\n",
    "\n",
    "```python\n",
    "for idx, valor in enumerate(carros):\n",
    "```\n",
    "\n",
    "- `idx`: armazena o índice do elemento atual (começando de 0).\n",
    "- `valor`: armazena o valor do elemento atual da lista (por exemplo, \"Gol\", \"Argo\", ou \"Fusca\").\n",
    "\n",
    "3. **Impressão dos resultados**: Durante cada iteração do loop, o programa imprime uma string que mostra o valor do carro e seu índice correspondente.\n",
    "\n",
    "```python\n",
    "print(\"O valor é \" + valor + \" Indice \" + str(idx))\n",
    "```\n",
    "\n",
    "- O resultado será algo como:\n",
    "```\n",
    "   O valor é Gol Indice 0\n",
    "   O valor é Argo Indice 1\n",
    "   O valor é Fusca Indice 2\n",
    "```\n",
    "\n",
    "O código percorre a lista `carros` e, para cada carro, imprime tanto o valor (nome do carro) quanto o índice na lista. O `enumerate()` é utilizado para obter os índices e os valores ao mesmo tempo, e a função `print()` exibe essas informações no formato especificado."
   ]
  },
  {
   "cell_type": "markdown",
   "metadata": {},
   "source": [
    "11. Escreva um programa que faça a soma de todos os números menores ou iguais a 50 que são múltiplos de 3 ou 5. Utilize um laço do tipo while para realizar a tarefa. Qual operador aritmético iremos utilizar para definir se um número é múltiplo de 3 ou 5?"
   ]
  },
  {
   "cell_type": "code",
   "execution_count": null,
   "metadata": {},
   "outputs": [],
   "source": [
    "def soma_multiplos():\n",
    "    numero = 1\n",
    "    soma = 0\n",
    "    \n",
    "    while numero <= 50:\n",
    "        if numero % 3 == 0 or numero % 5 == 0:\n",
    "            soma += numero\n",
    "        numero += 1\n",
    "    \n",
    "    return soma\n",
    "\n",
    "def main():\n",
    "    resultado = soma_multiplos()\n",
    "    print(f\"A soma de todos os números menores ou iguais a 50 que são múltiplos de 3 ou 5 é: {resultado}\")\n",
    "\n",
    "if __name__ == \"__main__\":\n",
    "    main()"
   ]
  },
  {
   "cell_type": "markdown",
   "metadata": {},
   "source": [
    "12. Faça um programa que mostre os números entre 2000 e 5000 (inclusive) que quando divididos por 12, produzam resto igual a 5."
   ]
  },
  {
   "cell_type": "code",
   "execution_count": null,
   "metadata": {},
   "outputs": [],
   "source": [
    "def encontrar_numeros():\n",
    "    # Itera sobre os números de 2000 a 5000 (incluindo o 5000)\n",
    "    for numero in range(2000, 5001):\n",
    "        # Verifica se o resto da divisão do número por 12 é igual a 5\n",
    "        if numero % 12 == 5:\n",
    "            print(numero)\n",
    "\n",
    "def main():\n",
    "    print(\"Números entre 2000 e 5000 que, quando divididos por 12, têm resto igual a 5:\")\n",
    "    encontrar_numeros()\n",
    "\n",
    "if __name__ == \"__main__\":\n",
    "    main()"
   ]
  },
  {
   "cell_type": "markdown",
   "metadata": {},
   "source": [
    "13. Escreva um programa que leia do usuário um número inteiro, maior que 1, e imprima o enésimo número da sequência de Fibonacci. Os dois primeiros termos dessa sequência são sempre 0 e 1. A partir de seu terceiro elemento, ele é calculado pela soma dos dois anteriores, de maneira que fib(n) = fib (n-1) + fib (n-2).  ​\n",
    "\n",
    "- Por exemplo, os dez primeiros termos da sequência são: 0, 1, 1, 2, 3, 5, 8, 13, 21 e 34.  ​\n",
    "- Se o usuário entrar com o número 11, qual seria a resposta do programa? ​\n",
    "- Dica: Declare, também, variáveis inteiras para guardar os dois números anteriores e as inicialize com 0 e 1. ​\n",
    "- Depois, faça um laço for que comece no terceiro elemento e vá calculando até o elemento n desejado​"
   ]
  },
  {
   "cell_type": "code",
   "execution_count": null,
   "metadata": {},
   "outputs": [],
   "source": [
    "def fibonacci(n):\n",
    "    if n == 1:\n",
    "        return 0\n",
    "    elif n == 2:\n",
    "        return 1\n",
    "    \n",
    "    # Inicializando os dois primeiros números da sequência\n",
    "    fib_n_2 = 0  # fib(n-2)\n",
    "    fib_n_1 = 1  # fib(n-1)\n",
    "    \n",
    "    # Calculando do 3º termo em diante\n",
    "    for i in range(3, n+1):\n",
    "        fib_n = fib_n_1 + fib_n_2  # fib(n) = fib(n-1) + fib(n-2)\n",
    "        fib_n_2 = fib_n_1  # Atualiza fib(n-2) para o valor anterior de fib(n-1)\n",
    "        fib_n_1 = fib_n  # Atualiza fib(n-1) para o valor atual de fib(n)\n",
    "    \n",
    "    return fib_n_1\n",
    "\n",
    "def main():\n",
    "    try:\n",
    "        # Solicita que o usuário insira um número inteiro maior que 1\n",
    "        n = int(input(\"Digite um número inteiro maior que 1 para a sequência de Fibonacci: \"))\n",
    "        \n",
    "        if n <= 1:\n",
    "            print(\"Erro: O número deve ser maior que 1.\")\n",
    "        else:\n",
    "            # Chama a função para calcular o enésimo número de Fibonacci\n",
    "            resultado = fibonacci(n)\n",
    "            print(f\"O {n}º número da sequência de Fibonacci é: {resultado}\")\n",
    "    except ValueError:\n",
    "        print(\"Erro: Por favor, insira um número inteiro válido.\")\n",
    "\n",
    "if __name__ == \"__main__\":\n",
    "    main()"
   ]
  },
  {
   "cell_type": "markdown",
   "metadata": {},
   "source": [
    "14. Faça um programa que contenha uma lista para cada atributo pessoal como a cor dos olhos (A - Azul, P - Preto, V - Verde e C - Castanho) e a cor dos cabelos (P - Preto, C - Castanho, L - Louro e R - Ruivo) e a etnia (Africano, Português, Índio e Holandês). Você deve usar aninhamento para fazer todas as combinações possíveis entre os atributos, uma combinação seria:​\n",
    "\n",
    "- O Holandês possui cabelo Ruivo e olhos castanhos.​"
   ]
  },
  {
   "cell_type": "code",
   "execution_count": null,
   "metadata": {},
   "outputs": [],
   "source": [
    "def gerar_combinacoes():\n",
    "    # Listas com os atributos pessoais\n",
    "    olhos = {'A': 'Azul', 'P': 'Preto', 'V': 'Verde', 'C': 'Castanho'}\n",
    "    cabelos = {'P': 'Preto', 'C': 'Castanho', 'L': 'Louro', 'R': 'Ruivo'}\n",
    "    etnias = ['Africano', 'Português', 'Índio', 'Holandês']\n",
    "\n",
    "    # Gerar todas as combinações possíveis\n",
    "    for etnia in etnias:\n",
    "        for cor_olhos, nome_olhos in olhos.items():\n",
    "            for cor_cabelos, nome_cabelos in cabelos.items():\n",
    "                print(f\"O {etnia} possui cabelo {nome_cabelos} e olhos {nome_olhos}.\")\n",
    "\n",
    "def main():\n",
    "    # Chama a função para gerar e exibir as combinações\n",
    "    gerar_combinacoes()\n",
    "\n",
    "if __name__ == \"__main__\":\n",
    "    main()"
   ]
  },
  {
   "cell_type": "markdown",
   "metadata": {},
   "source": [
    "15. Elabore um programa que some os n primeiros números ímpares, utilizando while. Por exemplo, para n = 5: 1 + 3 + 5 + 7 + 9 = 25.​"
   ]
  },
  {
   "cell_type": "code",
   "execution_count": null,
   "metadata": {},
   "outputs": [],
   "source": [
    "def soma_n_impares(n):\n",
    "    soma = 0  # Variável para armazenar a soma dos números ímpares\n",
    "    contador = 0  # Conta quantos números ímpares foram somados\n",
    "    numero_atual = 1  # O primeiro número ímpar\n",
    "\n",
    "    while contador < n:\n",
    "        soma += numero_atual  # Adiciona o número ímpar à soma\n",
    "        contador += 1  # Incrementa o contador de ímpares\n",
    "        numero_atual += 2  # Passa para o próximo número ímpar\n",
    "\n",
    "    return soma\n",
    "\n",
    "def main():\n",
    "    try:\n",
    "        # Solicita que o usuário insira o valor de n\n",
    "        n = int(input(\"Digite o valor de n (quantos primeiros números ímpares somar): \"))\n",
    "        \n",
    "        if n <= 0:\n",
    "            print(\"Erro: n deve ser um número maior que zero.\")\n",
    "        else:\n",
    "            resultado = soma_n_impares(n)\n",
    "            print(f\"A soma dos {n} primeiros números ímpares é: {resultado}\")\n",
    "    except ValueError:\n",
    "        print(\"Erro: Por favor, insira um número inteiro válido.\")\n",
    "\n",
    "if __name__ == \"__main__\":\n",
    "    main()"
   ]
  },
  {
   "cell_type": "markdown",
   "metadata": {},
   "source": [
    "16. Elabore um programa que receba um inteiro entre 0 e 8 (não aceitar valores fora dessa faixa) e calcule o fatorial do número dado. "
   ]
  },
  {
   "cell_type": "code",
   "execution_count": null,
   "metadata": {},
   "outputs": [],
   "source": [
    "def calcular_fatorial(numero):\n",
    "    fatorial = 1\n",
    "    for i in range(1, numero + 1):\n",
    "        fatorial *= i\n",
    "    return fatorial\n",
    "\n",
    "def main():\n",
    "    while True:\n",
    "        try:\n",
    "            # Solicita que o usuário insira um número entre 0 e 8\n",
    "            numero = int(input(\"Digite um número inteiro entre 0 e 8: \"))\n",
    "            \n",
    "            # Verifica se o número está na faixa permitida\n",
    "            if 0 <= numero <= 8:\n",
    "                # Calcula o fatorial do número e imprime o resultado\n",
    "                resultado = calcular_fatorial(numero)\n",
    "                print(f\"O fatorial de {numero} é: {resultado}\")\n",
    "                break  # Encerra o laço após uma entrada válida\n",
    "            else:\n",
    "                print(\"Erro: Por favor, insira um número entre 0 e 8.\")\n",
    "        except ValueError:\n",
    "            print(\"Erro: Por favor, insira um número inteiro válido.\")\n",
    "\n",
    "if __name__ == \"__main__\":\n",
    "    main()"
   ]
  },
  {
   "cell_type": "markdown",
   "metadata": {},
   "source": [
    "17. Escreva um programa Python para contar o número de elementos de tamanho 2 ou mais de uma lista qualquer, onde o primeiro e o último caractere do elemento são os mesmos. ​\n",
    "\n",
    "- Lista de exemplo: ['abc', 'xyz', 'aba', '1221']​\n",
    "- Resultado esperado: 2​"
   ]
  },
  {
   "cell_type": "code",
   "execution_count": null,
   "metadata": {},
   "outputs": [],
   "source": [
    "def contar_elementos(lista):\n",
    "    contador = 0\n",
    "    for elemento in lista:\n",
    "        if len(elemento) >= 2 and elemento[0] == elemento[-1]:\n",
    "            contador += 1\n",
    "    return contador\n",
    "\n",
    "def main():\n",
    "    # Exemplo de lista\n",
    "    lista_exemplo = ['abc', 'xyz', 'aba', '1221']\n",
    "    \n",
    "    # Chama a função para contar os elementos e imprime o resultado\n",
    "    resultado = contar_elementos(lista_exemplo)\n",
    "    print(f\"Número de elementos que atendem ao critério: {resultado}\")\n",
    "\n",
    "if __name__ == \"__main__\":\n",
    "    main()"
   ]
  },
  {
   "cell_type": "markdown",
   "metadata": {},
   "source": [
    "​18. Escreva um programa que remova valores duplicados de uma lista e exiba o antes e o depois. Você pode utilizar um laço para isso. ​"
   ]
  },
  {
   "cell_type": "code",
   "execution_count": null,
   "metadata": {},
   "outputs": [],
   "source": [
    "def remover_duplicados(lista):\n",
    "    lista_sem_duplicados = []  # Lista para armazenar os elementos sem duplicação\n",
    "    for elemento in lista:\n",
    "        if elemento not in lista_sem_duplicados:\n",
    "            lista_sem_duplicados.append(elemento)\n",
    "    return lista_sem_duplicados\n",
    "\n",
    "def main():\n",
    "    # Exemplo de lista com valores duplicados\n",
    "    lista_exemplo = [1, 2, 3, 2, 4, 3, 5, 1, 6]\n",
    "    \n",
    "    # Exibe a lista antes da remoção\n",
    "    print(f\"Lista original: {lista_exemplo}\")\n",
    "    \n",
    "    # Remove duplicados e exibe a lista sem duplicados\n",
    "    lista_sem_duplicados = remover_duplicados(lista_exemplo)\n",
    "    print(f\"Lista após remover duplicados: {lista_sem_duplicados}\")\n",
    "\n",
    "if __name__ == \"__main__\":\n",
    "    main()"
   ]
  },
  {
   "cell_type": "markdown",
   "metadata": {},
   "source": [
    "19. Escreva um programa que retorna verdadeiro se existir ao menos um elemento que seja comum as duas listas.​"
   ]
  },
  {
   "cell_type": "code",
   "execution_count": null,
   "metadata": {},
   "outputs": [],
   "source": [
    "def verificar_elemento_comum(lista1, lista2):\n",
    "    for elemento in lista1:\n",
    "        if elemento in lista2:\n",
    "            return True\n",
    "    return False\n",
    "\n",
    "def main():\n",
    "    # Exemplo de duas listas\n",
    "    lista1 = [1, 2, 3, 4, 5]\n",
    "    lista2 = [5, 6, 7, 8, 9]\n",
    "    \n",
    "    # Verifica se existe algum elemento em comum\n",
    "    resultado = verificar_elemento_comum(lista1, lista2)\n",
    "    \n",
    "    # Exibe o resultado\n",
    "    if resultado:\n",
    "        print(\"Há pelo menos um elemento comum entre as duas listas.\")\n",
    "    else:\n",
    "        print(\"Não há elementos comuns entre as duas listas.\")\n",
    "\n",
    "if __name__ == \"__main__\":\n",
    "    main()"
   ]
  },
  {
   "cell_type": "markdown",
   "metadata": {},
   "source": [
    "20. Escreva um programa em Python para dividir uma determinada lista em duas partes, onde o comprimento da primeira parte da lista é fornecido. ​\n",
    "\n",
    "- [1, 1, 2, 3, 4, 4, 5, 1]​\n",
    "- Comprimento da primeira parte da lista: 3​\n",
    "- Dividiu a referida lista em duas partes: ([1, 1, 2], [3, 4, 4, 5, 1])​​"
   ]
  },
  {
   "cell_type": "code",
   "execution_count": null,
   "metadata": {},
   "outputs": [],
   "source": [
    "def dividir_lista(lista, comprimento_primeira_parte):\n",
    "    # Divide a lista com base no comprimento fornecido\n",
    "    primeira_parte = lista[:comprimento_primeira_parte]\n",
    "    segunda_parte = lista[comprimento_primeira_parte:]\n",
    "    return primeira_parte, segunda_parte\n",
    "\n",
    "def main():\n",
    "    # Exemplo de lista\n",
    "    lista_exemplo = [1, 1, 2, 3, 4, 4, 5, 1]\n",
    "    \n",
    "    try:\n",
    "        # Solicita que o usuário insira o comprimento da primeira parte\n",
    "        comprimento_primeira_parte = int(input(\"Digite o comprimento da primeira parte da lista: \"))\n",
    "        \n",
    "        # Verifica se o comprimento é válido\n",
    "        if 0 <= comprimento_primeira_parte <= len(lista_exemplo):\n",
    "            # Divide a lista e exibe o resultado\n",
    "            primeira_parte, segunda_parte = dividir_lista(lista_exemplo, comprimento_primeira_parte)\n",
    "            print(f\"Primeira parte da lista: {primeira_parte}\")\n",
    "            print(f\"Segunda parte da lista: {segunda_parte}\")\n",
    "        else:\n",
    "            print(f\"Erro: O comprimento deve estar entre 0 e {len(lista_exemplo)}.\")\n",
    "    \n",
    "    except ValueError:\n",
    "        print(\"Erro: Por favor, insira um número inteiro válido.\")\n",
    "\n",
    "if __name__ == \"__main__\":\n",
    "    main()"
   ]
  },
  {
   "cell_type": "markdown",
   "metadata": {},
   "source": [
    "21. Escreva um programa em Python para adicionar uma chave a um dicionário.​\n",
    "\n",
    "- Exemplo: {0: 10, 1: 20}​\n",
    "- Resultado esperado: {0: 10, 1: 20, 2: 30}​"
   ]
  },
  {
   "cell_type": "code",
   "execution_count": null,
   "metadata": {},
   "outputs": [],
   "source": [
    "def adicionar_chave(dicionario, chave, valor):\n",
    "    dicionario[chave] = valor\n",
    "    return dicionario\n",
    "\n",
    "def main():\n",
    "    # Exemplo de dicionário\n",
    "    dicionario_exemplo = {0: 10, 1: 20}\n",
    "    \n",
    "    # Chave e valor a serem adicionados\n",
    "    nova_chave = 2\n",
    "    novo_valor = 30\n",
    "    \n",
    "    # Adiciona a nova chave e valor ao dicionário\n",
    "    dicionario_atualizado = adicionar_chave(dicionario_exemplo, nova_chave, novo_valor)\n",
    "    \n",
    "    # Exibe o dicionário atualizado\n",
    "    print(f\"Dicionário atualizado: {dicionario_atualizado}\")\n",
    "\n",
    "if __name__ == \"__main__\":\n",
    "    main()"
   ]
  },
  {
   "cell_type": "markdown",
   "metadata": {},
   "source": [
    "22. Escreva um programa Python para iterar em dicionários usando loops for. Para isso você deve usar o método .items() para exibir a chave e o valor."
   ]
  },
  {
   "cell_type": "code",
   "execution_count": null,
   "metadata": {},
   "outputs": [],
   "source": [
    "def iterar_dicionario(dicionario):\n",
    "    # Itera sobre as chaves e valores do dicionário usando .items()\n",
    "    for chave, valor in dicionario.items():\n",
    "        print(f\"Chave: {chave}, Valor: {valor}\")\n",
    "\n",
    "def main():\n",
    "    # Exemplo de dicionário\n",
    "    dicionario_exemplo = {0: 10, 1: 20, 2: 30}\n",
    "    \n",
    "    # Chama a função para iterar e exibir as chaves e valores\n",
    "    iterar_dicionario(dicionario_exemplo)\n",
    "\n",
    "if __name__ == \"__main__\":\n",
    "    main()"
   ]
  },
  {
   "cell_type": "markdown",
   "metadata": {},
   "source": [
    "23. Escreva um programa que soma todos os valores divisíveis por 4 de um dicionário;"
   ]
  },
  {
   "cell_type": "code",
   "execution_count": null,
   "metadata": {},
   "outputs": [],
   "source": [
    "def soma_valores_divisiveis_por_4(dicionario):\n",
    "    soma = 0\n",
    "    for valor in dicionario.values():\n",
    "        if valor % 4 == 0:\n",
    "            soma += valor\n",
    "    return soma\n",
    "\n",
    "def main():\n",
    "    # Exemplo de dicionário\n",
    "    dicionario_exemplo = {0: 10, 1: 20, 2: 30, 3: 8, 4: 16}\n",
    "    \n",
    "    # Soma dos valores divisíveis por 4\n",
    "    resultado = soma_valores_divisiveis_por_4(dicionario_exemplo)\n",
    "    \n",
    "    # Exibe o resultado\n",
    "    print(f\"Soma dos valores divisíveis por 4: {resultado}\")\n",
    "\n",
    "if __name__ == \"__main__\":\n",
    "    main()"
   ]
  },
  {
   "cell_type": "markdown",
   "metadata": {},
   "source": [
    "24. Escreva um programa Python para combinar duas listas em um dicionário, onde os elementos da primeira servem como chaves e os elementos da segunda servem como valores. Os valores da primeira lista precisam ser exclusivos. ​\n",
    "\n",
    "- ['a', 'b', 'c', 'd', 'e', 'f']​\n",
    "- [1, 2, 3, 4, 5]​\n",
    "- Combine os valores das referidas duas listas em um dicionário: {'a': 1, 'b': 2, 'c': 3, 'd': 4, 'e': 5}​\n",
    "- Para isso você deve utilizar o operador zip que é um iterador de tuplas. Pesquise na internet.​"
   ]
  },
  {
   "cell_type": "code",
   "execution_count": null,
   "metadata": {},
   "outputs": [],
   "source": [
    "def combinar_listas_em_dicionario(lista_chaves, lista_valores):\n",
    "    # Usa zip para combinar as duas listas em pares (chave, valor) e converte para dicionário\n",
    "    dicionario = dict(zip(lista_chaves, lista_valores))\n",
    "    return dicionario\n",
    "\n",
    "def main():\n",
    "    # Exemplo de listas\n",
    "    lista_chaves = ['a', 'b', 'c', 'd', 'e', 'f']\n",
    "    lista_valores = [1, 2, 3, 4, 5]\n",
    "    \n",
    "    # Combina as listas em um dicionário\n",
    "    dicionario_resultante = combinar_listas_em_dicionario(lista_chaves, lista_valores)\n",
    "    \n",
    "    # Exibe o dicionário resultante\n",
    "    print(f\"Dicionário resultante: {dicionario_resultante}\")\n",
    "\n",
    "if __name__ == \"__main__\":\n",
    "    main()"
   ]
  },
  {
   "cell_type": "markdown",
   "metadata": {},
   "source": [
    "25. Escreva um programa em Python para criar uma tupla com diferentes tipos de itens e imprimir na tela.​"
   ]
  },
  {
   "cell_type": "code",
   "execution_count": null,
   "metadata": {},
   "outputs": [],
   "source": [
    "def criar_tupla():\n",
    "    # Cria uma tupla com diferentes tipos de itens\n",
    "    minha_tupla = (1, \"Texto\", 3.14, True, [5, 6, 7], {\"chave\": \"valor\"})\n",
    "    \n",
    "    # Exibe a tupla criada\n",
    "    print(\"Tupla criada:\", minha_tupla)\n",
    "\n",
    "def main():\n",
    "    criar_tupla()\n",
    "\n",
    "if __name__ == \"__main__\":\n",
    "    main()"
   ]
  },
  {
   "cell_type": "markdown",
   "metadata": {},
   "source": [
    "26. ​Crie um programa que retorna false se um elemento existe em uma tupla."
   ]
  },
  {
   "cell_type": "code",
   "execution_count": null,
   "metadata": {},
   "outputs": [],
   "source": [
    "def verificar_elemento_nao_existe(tupla, elemento):\n",
    "    # Retorna False se o elemento existir na tupla, True caso contrário\n",
    "    return elemento not in tupla\n",
    "\n",
    "def main():\n",
    "    # Exemplo de tupla\n",
    "    minha_tupla = (1, 2, 3, 4, 5, \"texto\", 3.14)\n",
    "    \n",
    "    # Exemplo de elemento a ser verificado\n",
    "    elemento = \"texto\"\n",
    "    \n",
    "    # Verifica se o elemento não existe na tupla\n",
    "    resultado = verificar_elemento_nao_existe(minha_tupla, elemento)\n",
    "    \n",
    "    # Exibe o resultado\n",
    "    print(f\"O elemento '{elemento}' não existe na tupla? {resultado}\")\n",
    "\n",
    "if __name__ == \"__main__\":\n",
    "    main()"
   ]
  },
  {
   "cell_type": "markdown",
   "metadata": {},
   "source": [
    "27. Crie um programa para fatiar uma tupla de acordo com os índices de intervalor passados pelo usuário.​"
   ]
  },
  {
   "cell_type": "code",
   "execution_count": null,
   "metadata": {},
   "outputs": [],
   "source": [
    "def fatiar_tupla(tupla, inicio, fim):\n",
    "    # Retorna a fatia da tupla usando os índices de início e fim\n",
    "    return tupla[inicio:fim]\n",
    "\n",
    "def main():\n",
    "    # Exemplo de tupla\n",
    "    minha_tupla = (10, 20, 30, 40, 50, 60, 70, 80, 90, 100)\n",
    "    \n",
    "    try:\n",
    "        # Solicita ao usuário os índices de início e fim\n",
    "        inicio = int(input(\"Digite o índice de início: \"))\n",
    "        fim = int(input(\"Digite o índice de fim: \"))\n",
    "        \n",
    "        # Gera a fatia da tupla e exibe o resultado\n",
    "        fatia = fatiar_tupla(minha_tupla, inicio, fim)\n",
    "        print(f\"Fatia da tupla: {fatia}\")\n",
    "    except ValueError:\n",
    "        print(\"Erro: Por favor, insira números inteiros válidos.\")\n",
    "\n",
    "if __name__ == \"__main__\":\n",
    "    main()"
   ]
  },
  {
   "cell_type": "markdown",
   "metadata": {},
   "source": [
    "28. Escreva um programa em Python para calcular o valor médio dos números em uma determinada tupla de tuplas.​"
   ]
  },
  {
   "cell_type": "code",
   "execution_count": null,
   "metadata": {},
   "outputs": [],
   "source": [
    "def calcular_media(tupla_de_tuplas):\n",
    "    soma = 0\n",
    "    quantidade = 0\n",
    "\n",
    "    # Percorre cada tupla dentro da tupla principal\n",
    "    for sub_tupla in tupla_de_tuplas:\n",
    "        soma += sum(sub_tupla)  # Soma os valores da subtupla\n",
    "        quantidade += len(sub_tupla)  # Conta a quantidade de elementos\n",
    "\n",
    "    # Calcula a média\n",
    "    if quantidade == 0:\n",
    "        return 0  # Evita divisão por zero\n",
    "    else:\n",
    "        media = soma / quantidade\n",
    "        return media\n",
    "\n",
    "def main():\n",
    "    # Exemplo de tupla de tuplas\n",
    "    tupla_exemplo = ((10, 20, 30), (40, 50), (60, 70, 80, 90))\n",
    "    \n",
    "    # Calcula a média dos números\n",
    "    media = calcular_media(tupla_exemplo)\n",
    "    \n",
    "    # Exibe o resultado\n",
    "    print(f\"O valor médio dos números na tupla de tuplas é: {media:.2f}\")\n",
    "\n",
    "if __name__ == \"__main__\":\n",
    "    main()"
   ]
  }
 ],
 "metadata": {
  "language_info": {
   "name": "python"
  }
 },
 "nbformat": 4,
 "nbformat_minor": 2
}
