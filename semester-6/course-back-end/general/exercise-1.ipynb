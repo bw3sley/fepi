{
 "cells": [
  {
   "cell_type": "markdown",
   "metadata": {},
   "source": [
    "# Exercício 1"
   ]
  },
  {
   "cell_type": "markdown",
   "metadata": {},
   "source": [
    "## Calculadora Simples\n",
    "\n",
    "Escreva um programa Python que faça uma operação aritmética básica entre dois números. O usuário deve ser \n",
    "solicitado a inserir dois números e a operação que deseja realizar (soma, subtração, multiplicação ou divisão). Seu \n",
    "programa deve então exibir o resultado da operação. Considere o caso de uma divisão por zero."
   ]
  },
  {
   "cell_type": "code",
   "execution_count": null,
   "metadata": {},
   "outputs": [],
   "source": [
    "def init():\n",
    "    numberOne = int(input(\"Digite um número: \"));\n",
    "    numberTwo = int(input(\"Digite outro número: \"));\n",
    "\n",
    "    operator = input(\"Digite um operador para fazermos os cálculos: \");\n",
    "\n",
    "    execute(numberOne, numberTwo, operator);\n",
    "\n",
    "def execute(numberOne, numberTwo, operator):\n",
    "    isOperatorValid(operator);\n",
    "\n",
    "    match operator:\n",
    "        case '+':\n",
    "            expression = numberOne + numberTwo\n",
    "        case '-':\n",
    "            expression = numberOne - numberTwo\n",
    "        case '*':\n",
    "            expression = numberOne * numberTwo\n",
    "        case '/':\n",
    "            expression = numberOne / numberTwo\n",
    "        case '%':\n",
    "            expression = numberOne % numberTwo\n",
    "\n",
    "    return print(f\"O valor total deu: {expression}\");\n",
    "\n",
    "def isOperatorValid(operator):\n",
    "    operators = ['+', '-', '*', '/', '%']\n",
    "\n",
    "    if operator not in operators:\n",
    "        return print(f\"O operador '{operator}' não existe.\");\n",
    "\n",
    "    return operator;\n",
    "\n",
    "init();"
   ]
  },
  {
   "cell_type": "markdown",
   "metadata": {},
   "source": [
    "## Verificador de senha\n",
    "\n",
    "Escreva um programa que solicite ao usuário para criar uma nova senha. A senha deve atender aos seguintes \n",
    "requisitos: ter pelo menos 8 caracteres, conter pelo menos uma letra minúscula, uma letra maiúscula e um número. \n",
    "Se a senha atender a esses critérios, seu programa deve imprimir \"Senha válida\". Caso contrário, ele deve imprimir \n",
    "uma mensagem informando o usuário sobre o critério que a senha não atendeu."
   ]
  },
  {
   "cell_type": "code",
   "execution_count": null,
   "metadata": {},
   "outputs": [],
   "source": [
    "import re;\n",
    "\n",
    "PATTERN_LOWER = r'[a-z]'\n",
    "PATTERN_UPPER = r'[A-Z]'\n",
    "PATTERN_SPECIAL = r'[!@#$%^&*(),.?\":{}|<>]'\n",
    "MIN_LENGTH = 8\n",
    "\n",
    "userPassword = input(\"Crie sua senha: \");\n",
    "\n",
    "def isPasswordSecure(password):\n",
    "    if len(password) < MIN_LENGTH:\n",
    "        return print(f\"A senha precisa ter no mínimo {MIN_LENGTH}\");\n",
    "\n",
    "    if not re.search(PATTERN_LOWER, password):\n",
    "        return print(\"A senha precisa ter pelo menos uma letra minúscula.\")\n",
    "\n",
    "    if not re.search(PATTERN_UPPER, password):\n",
    "        return print(\"A senha precisa ter pelo menos uma letra maiúscula.\")\n",
    "\n",
    "    if not re.search(PATTERN_SPECIAL, password):\n",
    "        return print(\"A senha precisa ter pelo menos um caractere especial.\")\n",
    "\n",
    "    return print(\"A sua senha é segura!\");\n",
    "\n",
    "isPasswordSecure(userPassword);"
   ]
  },
  {
   "cell_type": "markdown",
   "metadata": {},
   "source": [
    "## Jogo de adivinhação\n",
    "\n",
    "Desenvolva um programa Python para um jogo de adivinhação. O programa deve gerar aleatoriamente um número \n",
    "entre 1 e 100, e o usuário tem que adivinhá-lo. Depois de cada tentativa, o programa deve dizer ao usuário se o \n",
    "número que eles adivinharam é muito alto, muito baixo, ou correto. Além disso, o programa deve acompanhar o \n",
    "número de tentativas que o usuário levou para adivinhar corretamente e exibir esta informação quando o usuário \n",
    "adivinhar corretamente."
   ]
  },
  {
   "cell_type": "code",
   "execution_count": null,
   "metadata": {},
   "outputs": [],
   "source": [
    "import random;\n",
    "\n",
    "def init():\n",
    "    print(\"Descubra se hoje é seu dia de sorte!\");\n",
    "  \n",
    "    num = int(input(\"Digite um número: \"));\n",
    "\n",
    "    numberOfTries = 0;\n",
    "\n",
    "    randomNumber = random.randint(1, 100);\n",
    "\n",
    "    while (num != randomNumber):\n",
    "        numberOfTries += 1;\n",
    "\n",
    "        if (num > randomNumber):\n",
    "            print(f\"O número é menor!\");\n",
    "        else:\n",
    "            print(f\"O número é maior!\");\n",
    "\n",
    "        num = int(input(\"Digite um número: \"));\n",
    "\n",
    "    print(f\"Você acertou! O número é: {randomNumber} Você tentou {numberOfTries}\");\n",
    "\n",
    "init();"
   ]
  },
  {
   "cell_type": "code",
   "execution_count": null,
   "metadata": {},
   "outputs": [],
   "source": [
    "import random;\n",
    "\n",
    "def init():\n",
    "    MAX_VALID_NUMBER = 100;\n",
    "\n",
    "    print(\"Descubra se hoje é seu dia de sorte!\");\n",
    "\n",
    "    randomNumber = random.randint(1, MAX_VALID_NUMBER);\n",
    "\n",
    "    expression = (randomNumber / MAX_VALID_NUMBER) * 100;\n",
    "\n",
    "    print(f\"Sua chance de vitória é de: {expression}%\");\n",
    "\n",
    "init();"
   ]
  }
 ],
 "metadata": {
  "language_info": {
   "name": "python"
  }
 },
 "nbformat": 4,
 "nbformat_minor": 2
}
