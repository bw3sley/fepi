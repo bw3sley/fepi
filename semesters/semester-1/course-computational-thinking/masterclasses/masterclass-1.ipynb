{
  "nbformat": 4,
  "nbformat_minor": 0,
  "metadata": {
    "colab": {
      "provenance": []
    },
    "kernelspec": {
      "name": "python3",
      "display_name": "Python 3"
    },
    "language_info": {
      "name": "python"
    }
  },
  "cells": [
    {
      "cell_type": "code",
      "source": [
        "def fibonacci(number):\n",
        "    if number <= 1:\n",
        "        return number\n",
        "    else:\n",
        "        list = [0, 1]\n",
        "\n",
        "        for counter in range(2, number + 1):\n",
        "            list.append(list[counter-1] + list[counter-2])\n",
        "\n",
        "        return list[number]\n",
        "\n",
        "amountOfEntries = int(input())\n",
        "\n",
        "for counter in range(amountOfEntries):\n",
        "    number = int(input())\n",
        "\n",
        "    fibonnaciNumber = fibonacci(number)\n",
        "\n",
        "    print(f\"Fib({number}) = {fibonnaciNumber}\")"
      ],
      "metadata": {
        "colab": {
          "base_uri": "https://localhost:8080/"
        },
        "id": "fra_FMFUtfQr",
        "outputId": "99ff9f5d-7ca1-457e-8bb7-61db8c0197af"
      },
      "execution_count": null,
      "outputs": [
        {
          "output_type": "stream",
          "name": "stdout",
          "text": [
            "10\n",
            "1\n",
            "Fib(1) = 1\n",
            "3\n",
            "Fib(3) = 2\n",
            "2\n",
            "Fib(2) = 1\n",
            "1\n",
            "Fib(1) = 1\n",
            "2\n",
            "Fib(2) = 1\n",
            "10\n",
            "Fib(10) = 55\n",
            "3\n",
            "Fib(3) = 2\n",
            "4\n",
            "Fib(4) = 3\n",
            "123\n",
            "Fib(123) = 22698374052006863956975682\n",
            "023\n",
            "Fib(23) = 28657\n"
          ]
        }
      ]
    },
    {
      "cell_type": "code",
      "execution_count": null,
      "metadata": {
        "id": "o4nS2MIMiGeO",
        "colab": {
          "base_uri": "https://localhost:8080/"
        },
        "outputId": "89e9cb1d-06f3-4c96-f363-ff2e7e3f4f4c"
      },
      "outputs": [
        {
          "output_type": "stream",
          "name": "stdout",
          "text": [
            "Digite o número de entradas que você deseja: 1\n",
            "Digite um número: 1\n",
            "1\n"
          ]
        }
      ],
      "source": [
        "amountOfEntries = int(input(\"Digite o número de entradas que você deseja: \"))\n",
        "\n",
        "even = []\n",
        "odd = []\n",
        "\n",
        "numbers = []\n",
        "\n",
        "for counter in range(amountOfEntries):\n",
        "    numbers.append(int(input(\"Digite um número: \")))\n",
        "\n",
        "for number in numbers:\n",
        "    if number % 2 == 0:\n",
        "        even.append(number)\n",
        "    else:\n",
        "        odd.append(number)\n",
        "\n",
        "even.sort()\n",
        "odd.sort(reverse=True)\n",
        "\n",
        "for number in even:\n",
        "    print(number)\n",
        "\n",
        "for number in odd:\n",
        "    print(number)"
      ]
    }
  ]
}