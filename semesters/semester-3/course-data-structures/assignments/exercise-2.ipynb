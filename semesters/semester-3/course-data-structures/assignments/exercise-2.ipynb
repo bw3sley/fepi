{
  "nbformat": 4,
  "nbformat_minor": 0,
  "metadata": {
    "colab": {
      "provenance": []
    },
    "kernelspec": {
      "name": "python3",
      "display_name": "Python 3"
    },
    "language_info": {
      "name": "python"
    }
  },
  "cells": [
    {
      "cell_type": "markdown",
      "source": [
        "\n",
        "# Exercício Prático – Usando Listas"
      ],
      "metadata": {
        "id": "CQwYgNVATR6R"
      }
    },
    {
      "cell_type": "markdown",
      "source": [
        "A classe **Aluno** deve ter os seguintes atributos:\n",
        "\n",
        "*   **nome**: string\n",
        "*   **matricula**:  int\n",
        "*   **idade**: int"
      ],
      "metadata": {
        "id": "sMmcA4sMTcrE"
      }
    },
    {
      "cell_type": "code",
      "execution_count": null,
      "metadata": {
        "id": "Wl4Uq5DgTCee"
      },
      "outputs": [],
      "source": [
        "class Aluno:\n",
        "    def __init__(self, nome, matricula, idade):\n",
        "        self.nome = nome\n",
        "        self.matricula = matricula\n",
        "        self.idade = idade"
      ]
    },
    {
      "cell_type": "markdown",
      "source": [
        "A classe **Matrícula** deve ter os seguintes atributos:\n",
        "\n",
        "*   **nota1**: int\n",
        "*   **nota2**: int\n",
        "\n"
      ],
      "metadata": {
        "id": "Vk010JxsUNZ4"
      }
    },
    {
      "cell_type": "code",
      "source": [
        "class Matricula:\n",
        "  def __init__(self, aluno, disciplina, nota1, nota2):\n",
        "    self.aluno = aluno\n",
        "    self.disciplina = disciplina\n",
        "    self.nota1 = nota1\n",
        "    self.nota2 = nota2\n",
        "\n",
        "  def calcularMediaFinal(self):\n",
        "    return (self.nota1 + self.nota2) / 2"
      ],
      "metadata": {
        "id": "p8aR2A8XT2Yq"
      },
      "execution_count": null,
      "outputs": []
    },
    {
      "cell_type": "markdown",
      "source": [
        "A classe **Disciplina** deve ter os seguintes atributos:\n",
        "\n",
        "*   **nome**: string\n",
        "*   **codigo**: int\n",
        "*   **cargaHoraria**: int"
      ],
      "metadata": {
        "id": "C2y9ZiwGVxru"
      }
    },
    {
      "cell_type": "code",
      "source": [
        "class Disciplina:\n",
        "  def __init__(self, nome, codigo, cargaHoraria):\n",
        "    self.nome = nome;\n",
        "    self.codigo = codigo;\n",
        "    self.cargaHoraria: cargaHoraria"
      ],
      "metadata": {
        "id": "1M2C3lRRWDwL"
      },
      "execution_count": null,
      "outputs": []
    },
    {
      "cell_type": "markdown",
      "source": [
        "Crie um programa para testar que crie 5 objetos do tipo **Aluno**, 3 objetos do tipo **Disciplina** e associe cada aluno a 3 disciplinas através de objetos da classe **Matricula**."
      ],
      "metadata": {
        "id": "KIpvvFqFTG41"
      }
    },
    {
      "cell_type": "code",
      "source": [
        "aluno1 = Aluno(\"João\", \"A001\", 18)\n",
        "aluno2 = Aluno(\"Maria\", \"A002\", 20)\n",
        "aluno3 = Aluno(\"Pedro\", \"A003\", 22)\n",
        "aluno4 = Aluno(\"Lucas\", \"A004\", 19)\n",
        "aluno5 = Aluno(\"Ana\", \"A005\", 21)\n",
        "\n",
        "disciplina1 = Disciplina(\"Matemática\", \"M001\", 60)\n",
        "disciplina2 = Disciplina(\"História\", \"H001\", 45)\n",
        "disciplina3 = Disciplina(\"Química\", \"Q001\", 75)\n",
        "\n",
        "matricula1 = Matricula(aluno1, disciplina1, 8.5, 9.0)\n",
        "matricula2 = Matricula(aluno1, disciplina2, 7.0, 8.5)\n",
        "matricula3 = Matricula(aluno1, disciplina3, 9.0, 9.5)\n",
        "matricula4 = Matricula(aluno2, disciplina1, 7.5, 8.0)\n",
        "matricula5 = Matricula(aluno2, disciplina2, 8.0, 8.5)\n",
        "matricula6 = Matricula(aluno2, disciplina3, 9.5, 9.0)\n",
        "matricula7 = Matricula(aluno3, disciplina1, 9.0, 9.5)\n",
        "matricula8 = Matricula(aluno3, disciplina2, 8.5, 8.0)\n",
        "matricula9 = Matricula(aluno3, disciplina3, 7.0, 8.5)\n",
        "matricula10 = Matricula(aluno4, disciplina1, 8.0, 8.5)\n",
        "matricula11 = Matricula(aluno4, disciplina2, 9.5, 9.0)\n",
        "matricula12 = Matricula(aluno4, disciplina3, 7.5, 8.0)\n",
        "matricula13 = Matricula(aluno5, disciplina1, 9.0, 9.5)\n",
        "matricula14 = Matricula(aluno5, disciplina2, 8.5, 8.0)\n",
        "matricula15 = Matricula(aluno5, disciplina3, 8.0, 8.5)"
      ],
      "metadata": {
        "id": "lRaQnd6cWh8L"
      },
      "execution_count": null,
      "outputs": []
    },
    {
      "cell_type": "markdown",
      "source": [
        "Em seguida, o programa deve percorrer a lista de matrículas usando um loop (for ou while) e imprimir o nome do aluno, a disciplina e a média final."
      ],
      "metadata": {
        "id": "KwVZBYA4Wbg3"
      }
    },
    {
      "cell_type": "code",
      "source": [
        "lista_matriculas = [matricula1, matricula2, matricula3, matricula4, matricula5,\n",
        "                    matricula6, matricula7, matricula8, matricula9, matricula10,\n",
        "                    matricula11, matricula12, matricula13, matricula14, matricula15]\n",
        "\n",
        "for matricula in lista_matriculas:\n",
        "    nome_aluno = matricula.aluno.nome\n",
        "    disciplina = matricula.disciplina.nome\n",
        "    media_final = matricula.calcularMediaFinal()\n",
        "\n",
        "    print(\"Nome do aluno: \", nome_aluno)\n",
        "    print(\"Disciplina: \", disciplina)\n",
        "    print(\"Média final: \", media_final)\n",
        "    print(\"--------------------------\")"
      ],
      "metadata": {
        "colab": {
          "base_uri": "https://localhost:8080/"
        },
        "id": "fmno3THJWilA",
        "outputId": "9c98527d-f879-4531-868c-900d17a3d981"
      },
      "execution_count": null,
      "outputs": [
        {
          "output_type": "stream",
          "name": "stdout",
          "text": [
            "Nome do aluno:  João\n",
            "- Disciplina:  Matemática\n",
            "Média final:  8.75\n",
            "--------------------------\n",
            "Nome do aluno:  João\n",
            "- Disciplina:  História\n",
            "Média final:  7.75\n",
            "--------------------------\n",
            "Nome do aluno:  João\n",
            "- Disciplina:  Química\n",
            "Média final:  9.25\n",
            "--------------------------\n",
            "Nome do aluno:  Maria\n",
            "- Disciplina:  Matemática\n",
            "Média final:  7.75\n",
            "--------------------------\n",
            "Nome do aluno:  Maria\n",
            "- Disciplina:  História\n",
            "Média final:  8.25\n",
            "--------------------------\n",
            "Nome do aluno:  Maria\n",
            "- Disciplina:  Química\n",
            "Média final:  9.25\n",
            "--------------------------\n",
            "Nome do aluno:  Pedro\n",
            "- Disciplina:  Matemática\n",
            "Média final:  9.25\n",
            "--------------------------\n",
            "Nome do aluno:  Pedro\n",
            "- Disciplina:  História\n",
            "Média final:  8.25\n",
            "--------------------------\n",
            "Nome do aluno:  Pedro\n",
            "- Disciplina:  Química\n",
            "Média final:  7.75\n",
            "--------------------------\n",
            "Nome do aluno:  Lucas\n",
            "- Disciplina:  Matemática\n",
            "Média final:  8.25\n",
            "--------------------------\n",
            "Nome do aluno:  Lucas\n",
            "- Disciplina:  História\n",
            "Média final:  9.25\n",
            "--------------------------\n",
            "Nome do aluno:  Lucas\n",
            "- Disciplina:  Química\n",
            "Média final:  7.75\n",
            "--------------------------\n",
            "Nome do aluno:  Ana\n",
            "- Disciplina:  Matemática\n",
            "Média final:  9.25\n",
            "--------------------------\n",
            "Nome do aluno:  Ana\n",
            "- Disciplina:  História\n",
            "Média final:  8.25\n",
            "--------------------------\n",
            "Nome do aluno:  Ana\n",
            "- Disciplina:  Química\n",
            "Média final:  8.25\n",
            "--------------------------\n"
          ]
        }
      ]
    }
  ]
}