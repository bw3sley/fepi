{
  "nbformat": 4,
  "nbformat_minor": 0,
  "metadata": {
    "colab": {
      "provenance": []
    },
    "kernelspec": {
      "name": "python3",
      "display_name": "Python 3"
    },
    "language_info": {
      "name": "python"
    }
  },
  "cells": [
    {
      "cell_type": "markdown",
      "source": [
        "# **Exercício 1**\n",
        "Escreva uma **função recursiva** em Python para calcular o fatorial de um número inteiro positivo. O número deverá ser digitado pelo usuário e em seguida deve ser chamada a função para calcular o fatorial desse número.\n",
        "\n",
        "*Exemplo do programa:*\n",
        "\n",
        "**Entrada:**\n",
        "\n",
        "Digite um número: 5\n",
        "\n",
        "**Saída:**\n",
        "\n",
        "O fatorial de 5 é 120"
      ],
      "metadata": {
        "id": "5YOpP6aucnYV"
      }
    },
    {
      "cell_type": "code",
      "source": [
        "number = int(input(\"Digite um número: \"))\n",
        "\n",
        "def factorial(number):\n",
        "  if (number == 1):\n",
        "    return number;\n",
        "\n",
        "  else:\n",
        "    return number * factorial(number - 1);\n",
        "\n",
        "print(f\"O fatorial de {number} é {factorial(number)}\");"
      ],
      "metadata": {
        "id": "Hy1cI1UkVQ_s",
        "outputId": "6b5d8040-c31c-401e-849a-06c2ce37b7f3",
        "colab": {
          "base_uri": "https://localhost:8080/"
        }
      },
      "execution_count": null,
      "outputs": [
        {
          "output_type": "stream",
          "name": "stdout",
          "text": [
            "Digite um número: 5\n",
            "O fatorial de 5 é 120\n"
          ]
        }
      ]
    },
    {
      "cell_type": "markdown",
      "source": [
        "**Dica**:\n",
        "A função fatorial recebe um número inteiro positivo num como parâmetro e calcula o fatorial desse número usando recursão. Se num for igual a 0, a função retorna 1 (o fatorial de 0 é 1). Caso contrário, a função calcula o fatorial de num - 1 e multiplica o resultado por num.\n",
        "\n",
        "No programa principal, pedimos ao usuário para digitar um número inteiro positivo, chamamos a função fatorial para calcular o fatorial desse número e exibimos o resultado na tela."
      ],
      "metadata": {
        "id": "vsRQn9vFdhu1"
      }
    },
    {
      "cell_type": "markdown",
      "source": [
        "# **Exercício 2**\n",
        "Escreva uma função recursiva em Python para calcular o n-ésimo termo da sequência de Fibonacci.\n",
        "\n",
        "A sequência de Fibonacci é uma sequência de números inteiros em que cada número é a soma dos dois números anteriores na sequência. A sequência começa com os números 0 e 1 e os próximos números são obtidos adicionando os dois números anteriores.\n",
        "\n",
        "**Exemplo de entrada:**\n",
        "\n",
        " n = 6\n",
        "\n",
        "**Exemplo de saída:**\n",
        "\n",
        "O 6º termo da sequência de Fibonacci é 8\n"
      ],
      "metadata": {
        "id": "w1Qjt-jXd_Il"
      }
    },
    {
      "cell_type": "code",
      "source": [
        "number = int(input(\"Digite um número: \"));\n",
        "\n",
        "def fibonacciSequence(number):\n",
        "  if (number == 0):\n",
        "    return number;\n",
        "\n",
        "  elif (number == 1):\n",
        "    return number;\n",
        "\n",
        "  else:\n",
        "    return fibonacciSequence(number - 1) + fibonacciSequence(number - 2);\n",
        "\n",
        "print(f\"O {number}º termo da sequência de Fibonacci é {fibonacciSequence(number)}\");"
      ],
      "metadata": {
        "id": "0rY7Ea3RXOP9",
        "outputId": "347f932c-9525-4141-c489-bcbe65ef9c08",
        "colab": {
          "base_uri": "https://localhost:8080/"
        }
      },
      "execution_count": null,
      "outputs": [
        {
          "output_type": "stream",
          "name": "stdout",
          "text": [
            "Digite um número: 6\n",
            "O 6º termo da sequência de Fibonacci é 8\n"
          ]
        }
      ]
    },
    {
      "cell_type": "markdown",
      "source": [
        "# **Exercício 3:**\n",
        "\n",
        "Escreva uma função recursiva em Python para calcular a soma dos primeiros n números naturais.\n",
        "\n",
        "**Exemplo de entrada:**\n",
        "\n",
        "n = 5\n",
        "\n",
        "**Exemplo de saída:**\n",
        "\n",
        "A soma dos primeiros 5 números naturais é 15"
      ],
      "metadata": {
        "id": "4mUsUPgxiQm6"
      }
    },
    {
      "cell_type": "code",
      "source": [
        "number = int(input(\"Digite um número: \"));\n",
        "\n",
        "def sumNumbers(number):\n",
        "  if (number == 1):\n",
        "    return number;\n",
        "\n",
        "  else:\n",
        "    return number + sumNumbers(number - 1);\n",
        "\n",
        "print(f\"A soma dos primeiros {number} números naturais é {sumNumbers(number)}\");"
      ],
      "metadata": {
        "colab": {
          "base_uri": "https://localhost:8080/"
        },
        "id": "-mEyRJr6tTel",
        "outputId": "2c77e59f-1fa9-465e-b689-ca54187203f1"
      },
      "execution_count": null,
      "outputs": [
        {
          "output_type": "stream",
          "name": "stdout",
          "text": [
            "Digite um número: 5\n",
            "A soma dos primeiros 5 números naturais é 15\n"
          ]
        }
      ]
    },
    {
      "cell_type": "markdown",
      "source": [
        "# **Exercício 4**\n",
        "\n",
        "Escreva uma função recursiva em Python para calcular o máximo divisor comum (MDC) entre dois números inteiros.\n",
        "\n",
        "**Exemplo de entrada:**\n",
        "\n",
        "a = 12\n",
        "\n",
        "b = 18\n",
        "\n",
        "**Exemplo de saída:**\n",
        "\n",
        "O MDC de 12 e 18 é 6\n",
        "\n",
        "\n",
        "**Dica:**\n",
        "\n",
        "A função mdc recebe dois números inteiros a e b como parâmetros e retorna o máximo divisor comum entre eles usando recursão.\n",
        "\n",
        "A função usa recursão para calcular o MDC. Se b for igual a zero, a função retorna a. Caso contrário, a função chama a si mesma com os argumentos b e a%b (resto da divisão de a por b).\n",
        "\n",
        "No programa principal, pedimos ao usuário para digitar dois números inteiros a e b, chamamos a função mdc para calcular o MDC entre a e b e exibimos o resultado na tela.\n"
      ],
      "metadata": {
        "id": "2Tl7_tDJwJnH"
      }
    },
    {
      "cell_type": "code",
      "source": [
        "numberOne = int(input(\"Digite o primeiro número: \"));\n",
        "numberTwo = int(input(\"Digite o segundo número: \"));\n",
        "\n",
        "def mdc(numberOne, numberTwo):\n",
        "  if (numberTwo == 0):\n",
        "    return numberOne;\n",
        "  else:\n",
        "    return mdc(numberTwo, numberOne % numberTwo);\n",
        "\n",
        "print(f\"O MDC de {numberOne} e {numberTwo} é {mdc(numberOne, numberTwo)}\");"
      ],
      "metadata": {
        "id": "bKQNpppgYLic",
        "outputId": "e398672e-6ad8-4a0f-954d-04dd3f6512cd",
        "colab": {
          "base_uri": "https://localhost:8080/"
        }
      },
      "execution_count": null,
      "outputs": [
        {
          "output_type": "stream",
          "name": "stdout",
          "text": [
            "Digite o primeiro número: 12\n",
            "Digite o segundo número: 18\n",
            "O MDC de 12 e 18 é 6\n"
          ]
        }
      ]
    }
  ]
}