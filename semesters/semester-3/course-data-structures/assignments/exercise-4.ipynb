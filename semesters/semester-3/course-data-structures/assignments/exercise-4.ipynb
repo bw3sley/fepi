{
  "cells": [
    {
      "cell_type": "markdown",
      "metadata": {
        "id": "cklj5PYalUJ8"
      },
      "source": [
        "## Atividade 4 - Algoritmos de Ordenação"
      ]
    },
    {
      "cell_type": "markdown",
      "metadata": {
        "id": "eDru5KqOp4fL"
      },
      "source": [
        "### Selection sort"
      ]
    },
    {
      "cell_type": "markdown",
      "metadata": {
        "id": "paa5DaTulI-I"
      },
      "source": [
        "Implemente o algoritmo Selecion Sort e mostre a quantidade de **Comparações** e **Trocas** são realizadas. Teste o algoritmo em uma lista desordenada."
      ]
    },
    {
      "cell_type": "code",
      "execution_count": null,
      "metadata": {
        "colab": {
          "base_uri": "https://localhost:8080/"
        },
        "id": "bUpX5wc-k-Ch",
        "outputId": "21b114dd-0b5e-47ff-dfe3-e5abd01c1a33"
      },
      "outputs": [
        {
          "name": "stdout",
          "output_type": "stream",
          "text": [
            "Número de interações: 6\n",
            "Número de trocas: 6\n"
          ]
        }
      ],
      "source": [
        "def indiceMenor(lista, inicio):\n",
        "  minimo = inicio\n",
        "  tamanhoArray = len(lista)\n",
        "\n",
        "  for j in range(inicio + 1, tamanhoArray):\n",
        "   if lista[minimo] > lista[j]:\n",
        "    minimo = j\n",
        "\n",
        "  return minimo\n",
        "\n",
        "def selectionsort(lista):\n",
        "  tamanhoArray = len(lista)\n",
        "  iteracoes = 0\n",
        "  trocas = 0\n",
        "\n",
        "  for i in range(tamanhoArray - 1):\n",
        "    iteracoes += 1\n",
        "    trocas += 1\n",
        "\n",
        "    minimo= indiceMenor(lista, i)\n",
        "\n",
        "    (lista[i], lista[minimo]) = (lista[minimo], lista[i])\n",
        "\n",
        "  print(f\"Número de interações: {iteracoes}\")\n",
        "  print(f\"Número de trocas: {trocas}\")\n",
        "\n",
        "lista=[30, 40, 10, 5, 2, 9, 1]\n",
        "\n",
        "selectionsort(lista)"
      ]
    },
    {
      "cell_type": "markdown",
      "metadata": {
        "id": "yUHLYpT4qUSw"
      },
      "source": [
        "### Bubble sort"
      ]
    },
    {
      "cell_type": "markdown",
      "metadata": {
        "id": "tzbdCR5BqWTa"
      },
      "source": [
        "Compare com o algoritmo com o Bubble Sort desenvolvido na aula anterior."
      ]
    },
    {
      "cell_type": "code",
      "execution_count": null,
      "metadata": {
        "colab": {
          "base_uri": "https://localhost:8080/"
        },
        "id": "1fUOEDDCsnVZ",
        "outputId": "daee3262-f132-4b1f-8325-c2e46cebcc4c"
      },
      "outputs": [
        {
          "name": "stdout",
          "output_type": "stream",
          "text": [
            "Número de interações: 21\n",
            "Número de trocas: 18\n"
          ]
        }
      ],
      "source": [
        "def bubblesort(lista):\n",
        " tamanhoArray = len(lista)\n",
        " interacoes = 0\n",
        " trocas = 0\n",
        "\n",
        " for i in range(tamanhoArray - 1, 0, -1):\n",
        "  for j in range(i):\n",
        "    interacoes += 1\n",
        "\n",
        "    if lista[j]>lista[j+1]:\n",
        "      trocas+=1\n",
        "      (lista[j],lista[j+1])=(lista[j+1],lista[j])\n",
        "\n",
        " print(f\"Número de interações: {interacoes}\")\n",
        " print(f\"Número de trocas: {trocas}\")\n",
        "\n",
        "lista=[30, 40, 10, 5, 2, 9, 1]\n",
        "\n",
        "bubblesort(lista)"
      ]
    }
  ],
  "metadata": {
    "colab": {
      "provenance": []
    },
    "kernelspec": {
      "display_name": "Python 3",
      "name": "python3"
    },
    "language_info": {
      "name": "python"
    }
  },
  "nbformat": 4,
  "nbformat_minor": 0
}
