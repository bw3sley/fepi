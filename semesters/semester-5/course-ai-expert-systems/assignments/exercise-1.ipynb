{
  "nbformat": 4,
  "nbformat_minor": 0,
  "metadata": {
    "colab": {
      "provenance": []
    },
    "kernelspec": {
      "name": "python3",
      "display_name": "Python 3"
    },
    "language_info": {
      "name": "python"
    }
  },
  "cells": [
    {
      "cell_type": "markdown",
      "source": [
        "# Por que fiz um objeto com as opções de vinho?\n",
        "Pra não ficar fazendo aqueles `ifs` da morte, com esse objeto eu tenho como se fosse uma estrutura de árvore, conseguindo navegar pelos **nós** mais facilmente. Além disso, salvei as informações dos vinhos dentro de um array, assim consigo acessar pelo **index**."
      ],
      "metadata": {
        "id": "0LHeg4ZAvZHK"
      }
    },
    {
      "cell_type": "code",
      "execution_count": null,
      "metadata": {
        "id": "9jgGesiXscFJ"
      },
      "outputs": [],
      "source": [
        "wines = {\n",
        "      'vermelha': {\n",
        "          'leve': ['Pinot Noir', 'Vinho Tinto', 'Um vinho tinto leve com aromas de cereja, framboesa e especiarias.', 'https://res.cloudinary.com/evino/image/upload/q_auto:good,fl_progressive:steep,f_auto,dpr_1.0,h_434/v1/products/1692180-standing-front.png'],\n",
        "          'moderado': ['Merlot', 'Vinho Tinto', 'Um vinho tinto macio e aveludado, com sabores de ameixa e chocolate.', 'https://res.cloudinary.com/evino/image/upload/q_auto:good,fl_progressive:steep,f_auto,dpr_1.0,h_434/v1/products/1000003910-standing-front.png'],\n",
        "          'intenso': ['Cabernet Sauvignon', 'Vinho Tinto', 'Um vinho tinto robusto, com notas de cassis, tabaco e cedro.', 'https://res.cloudinary.com/evino/image/upload/q_auto:good,fl_progressive:steep,f_auto,dpr_1.0,h_434/v1/products/1000003912-standing-front.png'],\n",
        "      },\n",
        "      'branca': {\n",
        "          'leve': ['Chardonnay', 'Vinho Branco', 'Um vinho branco rico e encorpado, com sabores de maçã, pêra e toques de carvalho.', 'https://res.cloudinary.com/evino/image/upload/q_auto:good,fl_progressive:steep,f_auto,dpr_1.0,h_434/v1/products/1000007487-standing-front.png'],\n",
        "          'moderado': ['Sauvignon Blanc', 'Vinho Branco', 'Um vinho branco fresco e ácido, com notas de lima, maracujá e grama cortada.', 'https://res.cloudinary.com/evino/image/upload/q_auto:good,fl_progressive:steep,f_auto,dpr_1.0,h_434/v1/products/1692180-standing-front.png'],\n",
        "          'intenso': ['Riesling', 'Vinho Branco', 'Um vinho branco doce ou seco, com acidez vibrante e aromas de limão, maçã verde e florais.', 'https://cdn.dooca.store/2425/products/img-7695-copia-removebg-preview.png?v=1648061467'],\n",
        "      },\n",
        "      'peixe': {\n",
        "          'leve': ['Pinot Grigio', 'Vinho Branco', 'Um vinho branco leve e refrescante, com notas de limão e maçã verde.', 'https://res.cloudinary.com/evino/image/upload/q_auto:good,fl_progressive:steep,f_auto,dpr_1.0,h_434/v1/products/1000020915-standing-front.png'],\n",
        "          'moderado': ['Vinho Verde', 'Vinho Branco', 'Um vinho branco leve e ligeiramente efervescente, com toques de limão e melão.', 'https://res.cloudinary.com/evino/image/upload/q_auto:good,fl_progressive:steep,f_auto,dpr_1.0,h_434/v1/products/1000001351-standing-front.png'],\n",
        "          'intenso': ['Chardonnay', 'Vinho Branco', 'Um vinho branco encorpado, com sabores de frutas tropicais e baunilha, ideal para peixes gordurosos.', 'https://res.cloudinary.com/evino/image/upload/q_auto:good,fl_progressive:steep,f_auto,dpr_1.0,h_215/v1/products/1000007487-standing-front.png'],\n",
        "      },\n",
        "      'vegetariana': {\n",
        "          'leve': ['Sauvignon Blanc', 'Vinho Branco', 'Um vinho branco refrescante, perfeito para saladas e pratos leves.', 'https://res.cloudinary.com/evino/image/upload/q_auto:good,fl_progressive:steep,f_auto,dpr_1.0,h_434/v1/products/1000007079-standing-front.png'],\n",
        "          'moderado': ['Grenache', 'Vinho Tinto', 'Um vinho tinto frutado, com notas de morango, cereja e especiarias leves, ótimo para pratos vegetarianos moderados.', 'https://res.cloudinary.com/evino/image/upload/q_auto:good,fl_progressive:steep,f_auto,dpr_1.0,h_434/v1/products/1000004750-standing-front.png'],\n",
        "          'intenso': ['Syrah', 'Vinho Tinto', 'Um vinho tinto poderoso, com sabores de frutas negras, pimenta e chocolate, ideal para pratos vegetarianos intensos.', 'https://res.cloudinary.com/evino/image/upload/q_auto:good,fl_progressive:steep,f_auto,dpr_1.0,h_434/v1/products/1000021671-standing-front.png'],\n",
        "      }\n",
        "  }"
      ]
    },
    {
      "cell_type": "markdown",
      "source": [
        "# Função que sugere um vinho\n",
        "Essa função retorna o `name`, `type`, `description` e `imageUrl` do vinho conforme as entradas informadas pelo usuário. Essa função espera os parâmetros `meat_type` e `intensity` como **strings**.\n",
        "\n",
        "Depois de retornar as informações do vinho, monto a imagem utilizando a função `Image` da lib **IPython.display**."
      ],
      "metadata": {
        "id": "Yw_Y3u_ZwEVO"
      }
    },
    {
      "cell_type": "code",
      "source": [
        "from IPython.display import Image"
      ],
      "metadata": {
        "id": "fJT62iu11sxx"
      },
      "execution_count": null,
      "outputs": []
    },
    {
      "cell_type": "code",
      "source": [
        "def suggestWine(meat_type, intensity):\n",
        "  wine = wines.get(meat_type.lower(), {}).get(intensity.lower(), None);\n",
        "\n",
        "  if wine:\n",
        "    return f\"Eu te indico o vinho: {wine[0]} ({wine[1]}). \\n{wine[2]} \\nSegue abaixo uma imagem do vinho:\", wine[3];\n",
        "  else:\n",
        "    return \"Erro: não encontrei nenhuma combinação para as entradas fornecidas.\";"
      ],
      "metadata": {
        "id": "Lqp5PUkhtjlz"
      },
      "execution_count": null,
      "outputs": []
    },
    {
      "cell_type": "code",
      "source": [
        "wine, imageUrl = suggestWine(\"vegetariana\", \"intenso\")\n",
        "\n",
        "print(wine, \"\\n\");\n",
        "\n",
        "Image(url=imageUrl)"
      ],
      "metadata": {
        "colab": {
          "base_uri": "https://localhost:8080/",
          "height": 525
        },
        "id": "dVwJYx82zN-6",
        "outputId": "7dd881e6-98ea-4114-abda-58cecbba805a"
      },
      "execution_count": null,
      "outputs": [
        {
          "output_type": "stream",
          "name": "stdout",
          "text": [
            "Eu te indico o vinho: Syrah (Vinho Tinto). \n",
            "Um vinho tinto poderoso, com sabores de frutas negras, pimenta e chocolate, ideal para pratos vegetarianos intensos. \n",
            "Segue abaixo uma imagem do vinho: \n",
            "\n"
          ]
        },
        {
          "output_type": "execute_result",
          "data": {
            "text/html": [
              "<img src=\"https://res.cloudinary.com/evino/image/upload/q_auto:good,fl_progressive:steep,f_auto,dpr_1.0,h_434/v1/products/1000021671-standing-front.png\"/>"
            ],
            "text/plain": [
              "<IPython.core.display.Image object>"
            ]
          },
          "metadata": {},
          "execution_count": 76
        }
      ]
    }
  ]
}