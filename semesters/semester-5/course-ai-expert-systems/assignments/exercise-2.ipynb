{
  "cells": [
    {
      "cell_type": "code",
      "execution_count": null,
      "metadata": {
        "id": "Wmxs3R7p6Ncs"
      },
      "outputs": [],
      "source": [
        "genders = [\"poesia\", \"ficção\", \"não ficção\"];\n",
        "author_origin = [\"nacional\", \"internacional\"];"
      ]
    },
    {
      "cell_type": "code",
      "execution_count": null,
      "metadata": {
        "id": "V61bz39P9had"
      },
      "outputs": [],
      "source": [
        "def suggestABook(gender, publishedAt, origin):\n",
        "  gender = gender.lower() if gender.lower() in genders else None;\n",
        "  origin = origin.lower() if origin.lower() in author_origin else None;\n",
        "  publishedAt = publishedAt if publishedAt > 0 else None;\n",
        "\n",
        "  if gender == None or origin == None or publishedAt == None:\n",
        "    return \"Entries are not valid.\";\n",
        "\n",
        "  if gender == \"ficção\":\n",
        "    if publishedAt >= 2000:\n",
        "      if origin == \"nacional\":\n",
        "        return \"O vendedor de Passados\", \"https://img.bertrand.pt/images/o-vendedor-de-passados-jose-eduardo-agualusa/NTF8MTk1OTYyODF8MTU0MTkwNjl8MTQ5ODA1NDQ0NTAwMA==/300x\"\n",
        "      else:\n",
        "        return \"O código de Da Vinci\"\n",
        "    else:\n",
        "      if origin == \"nacional\":\n",
        "        return \"Vidas Secas\"\n",
        "      else:\n",
        "        return \"1984\"\n",
        "\n",
        "  if gender == \"Não ficção\":\n",
        "    if publishedAt >= 2000:\n",
        "      if origin == \"nacional\":\n",
        "        return \"A Luta contra a corrupção\"\n",
        "      else:\n",
        "        return \"Sapiens: Uma breve história sobre a humanidade\"\n",
        "    else:\n",
        "      if origin == \"nacional\":\n",
        "        return \"O povo brasileiro\"\n",
        "      else:\n",
        "        return \"A era dos extremos\"\n",
        "  return \"Livro não encontrado\";"
      ]
    },
    {
      "cell_type": "markdown",
      "metadata": {
        "id": "f-7cCDkoBtwA"
      },
      "source": []
    },
    {
      "cell_type": "code",
      "execution_count": null,
      "metadata": {
        "id": "HCJLzxn0F5O_"
      },
      "outputs": [],
      "source": [
        "from IPython.display import Image"
      ]
    },
    {
      "cell_type": "code",
      "execution_count": null,
      "metadata": {
        "colab": {
          "base_uri": "https://localhost:8080/",
          "height": 525
        },
        "id": "ljzgWgAwCIop",
        "outputId": "a51aa1e6-b433-4d32-e7ed-cf50d990f46f"
      },
      "outputs": [
        {
          "name": "stdout",
          "output_type": "stream",
          "text": [
            "Livro indicado: O vendedor de Passados\n",
            "-----\n"
          ]
        },
        {
          "data": {
            "text/html": [
              "<img src=\"https://img.bertrand.pt/images/o-vendedor-de-passados-jose-eduardo-agualusa/NTF8MTk1OTYyODF8MTU0MTkwNjl8MTQ5ODA1NDQ0NTAwMA==/300x\"/>"
            ],
            "text/plain": [
              "<IPython.core.display.Image object>"
            ]
          },
          "execution_count": 9,
          "metadata": {},
          "output_type": "execute_result"
        }
      ],
      "source": [
        "# print(suggestABook(\"Ficção\", 1990, \"Nacional\"));\n",
        "# print(suggestABook(\"Ficção\", 2000, \"Nacional\"));\n",
        "\n",
        "nome_livro, imagem = suggestABook(\"Ficção\", 2000, \"Nacional\")\n",
        "\n",
        "print(\"Livro indicado:\", nome_livro);\n",
        "print(\"-----\")\n",
        "\n",
        "Image(url=imagem)"
      ]
    }
  ],
  "metadata": {
    "colab": {
      "provenance": []
    },
    "kernelspec": {
      "display_name": "Python 3",
      "name": "python3"
    },
    "language_info": {
      "name": "python"
    }
  },
  "nbformat": 4,
  "nbformat_minor": 0
}
