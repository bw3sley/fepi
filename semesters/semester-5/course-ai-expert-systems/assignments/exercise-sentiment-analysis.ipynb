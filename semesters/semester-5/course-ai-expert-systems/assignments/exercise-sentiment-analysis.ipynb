{
  "cells": [
    {
      "cell_type": "markdown",
      "metadata": {
        "id": "PfK_ejPZLJII"
      },
      "source": [
        "# Trabalho 2 - 2º Bimestre"
      ]
    },
    {
      "cell_type": "markdown",
      "metadata": {
        "id": "cPEPkU7NLbF9"
      },
      "source": [
        "**Integrantes**: \n",
        "- Wesley Júnior (020321)\n",
        "- Lucas Faria (019790)"
      ]
    },
    {
      "cell_type": "markdown",
      "metadata": {
        "id": "crSVbNa2OsSj"
      },
      "source": [
        "Análise de sentimentos com um conjunto de dados com 50.000 avaliações de filmes do IMDB, categorizadas como positivas ou negativas."
      ]
    },
    {
      "cell_type": "markdown",
      "metadata": {
        "id": "5T83logALsJr"
      },
      "source": [
        "**1º Instalar as bibliotecas**"
      ]
    },
    {
      "cell_type": "code",
      "execution_count": 22,
      "metadata": {
        "colab": {
          "base_uri": "https://localhost:8080/"
        },
        "id": "yHTfbCf3Hgbd",
        "outputId": "aad5da22-6550-41b7-ac69-e99f7a61f902"
      },
      "outputs": [
        {
          "name": "stdout",
          "output_type": "stream",
          "text": [
            "Requirement already satisfied: pandas in /usr/local/lib/python3.10/dist-packages (2.0.3)\n",
            "Requirement already satisfied: nltk in /usr/local/lib/python3.10/dist-packages (3.8.1)\n",
            "Requirement already satisfied: matplotlib in /usr/local/lib/python3.10/dist-packages (3.7.1)\n",
            "Requirement already satisfied: python-dateutil>=2.8.2 in /usr/local/lib/python3.10/dist-packages (from pandas) (2.8.2)\n",
            "Requirement already satisfied: pytz>=2020.1 in /usr/local/lib/python3.10/dist-packages (from pandas) (2023.4)\n",
            "Requirement already satisfied: tzdata>=2022.1 in /usr/local/lib/python3.10/dist-packages (from pandas) (2024.1)\n",
            "Requirement already satisfied: numpy>=1.21.0 in /usr/local/lib/python3.10/dist-packages (from pandas) (1.25.2)\n",
            "Requirement already satisfied: click in /usr/local/lib/python3.10/dist-packages (from nltk) (8.1.7)\n",
            "Requirement already satisfied: joblib in /usr/local/lib/python3.10/dist-packages (from nltk) (1.4.2)\n",
            "Requirement already satisfied: regex>=2021.8.3 in /usr/local/lib/python3.10/dist-packages (from nltk) (2024.5.15)\n",
            "Requirement already satisfied: tqdm in /usr/local/lib/python3.10/dist-packages (from nltk) (4.66.4)\n",
            "Requirement already satisfied: contourpy>=1.0.1 in /usr/local/lib/python3.10/dist-packages (from matplotlib) (1.2.1)\n",
            "Requirement already satisfied: cycler>=0.10 in /usr/local/lib/python3.10/dist-packages (from matplotlib) (0.12.1)\n",
            "Requirement already satisfied: fonttools>=4.22.0 in /usr/local/lib/python3.10/dist-packages (from matplotlib) (4.53.0)\n",
            "Requirement already satisfied: kiwisolver>=1.0.1 in /usr/local/lib/python3.10/dist-packages (from matplotlib) (1.4.5)\n",
            "Requirement already satisfied: packaging>=20.0 in /usr/local/lib/python3.10/dist-packages (from matplotlib) (24.1)\n",
            "Requirement already satisfied: pillow>=6.2.0 in /usr/local/lib/python3.10/dist-packages (from matplotlib) (9.4.0)\n",
            "Requirement already satisfied: pyparsing>=2.3.1 in /usr/local/lib/python3.10/dist-packages (from matplotlib) (3.1.2)\n",
            "Requirement already satisfied: six>=1.5 in /usr/local/lib/python3.10/dist-packages (from python-dateutil>=2.8.2->pandas) (1.16.0)\n"
          ]
        }
      ],
      "source": [
        "!pip install pandas nltk matplotlib"
      ]
    },
    {
      "cell_type": "markdown",
      "metadata": {
        "id": "rwvH3XiHMPYT"
      },
      "source": [
        "**2º Importar as bibliotecas**"
      ]
    },
    {
      "cell_type": "code",
      "execution_count": 23,
      "metadata": {
        "id": "1IRyMQM2JsWR"
      },
      "outputs": [],
      "source": [
        "import pandas as pd\n",
        "import nltk\n",
        "from nltk.corpus import stopwords\n",
        "from nltk.tokenize import word_tokenize\n",
        "from nltk.sentiment.vader import SentimentIntensityAnalyzer\n",
        "import matplotlib.pyplot as plt"
      ]
    },
    {
      "cell_type": "markdown",
      "metadata": {
        "id": "mdNcwz-tMVY3"
      },
      "source": [
        "**3º Baixar os recursos do NLTK**"
      ]
    },
    {
      "cell_type": "code",
      "execution_count": 24,
      "metadata": {
        "colab": {
          "base_uri": "https://localhost:8080/"
        },
        "id": "YP2LAbJgJyhM",
        "outputId": "856e981e-204f-426d-c681-5c41fcbbb450"
      },
      "outputs": [
        {
          "name": "stderr",
          "output_type": "stream",
          "text": [
            "[nltk_data] Downloading package punkt to /root/nltk_data...\n",
            "[nltk_data]   Package punkt is already up-to-date!\n",
            "[nltk_data] Downloading package stopwords to /root/nltk_data...\n",
            "[nltk_data]   Package stopwords is already up-to-date!\n",
            "[nltk_data] Downloading package vader_lexicon to /root/nltk_data...\n",
            "[nltk_data]   Package vader_lexicon is already up-to-date!\n"
          ]
        },
        {
          "data": {
            "text/plain": [
              "True"
            ]
          },
          "execution_count": 24,
          "metadata": {},
          "output_type": "execute_result"
        }
      ],
      "source": [
        "nltk.download('punkt')\n",
        "nltk.download('stopwords')\n",
        "nltk.download('vader_lexicon')"
      ]
    },
    {
      "cell_type": "markdown",
      "metadata": {
        "id": "_MOZIPbIMaNN"
      },
      "source": [
        "**4º Carregar o conjunto de dados do IMDB Reviews**"
      ]
    },
    {
      "cell_type": "code",
      "execution_count": 25,
      "metadata": {
        "id": "4DGgHX1_J3zK"
      },
      "outputs": [],
      "source": [
        "url = 'https://ai.stanford.edu/~amaas/data/sentiment/aclImdb_v1.tar.gz'\n",
        "dataset_path = 'aclImdb_v1.tar.gz'"
      ]
    },
    {
      "cell_type": "markdown",
      "metadata": {
        "id": "FQWHPUq7MiUO"
      },
      "source": [
        "**5º Baixar e extrair o dataset**"
      ]
    },
    {
      "cell_type": "code",
      "execution_count": 26,
      "metadata": {
        "colab": {
          "base_uri": "https://localhost:8080/"
        },
        "id": "yQQ2qwwJJ69u",
        "outputId": "9c23b7f9-494c-4d2c-dc08-779b0331229c"
      },
      "outputs": [
        {
          "name": "stdout",
          "output_type": "stream",
          "text": [
            "--2024-06-12 20:56:02--  https://ai.stanford.edu/~amaas/data/sentiment/aclImdb_v1.tar.gz\n",
            "Resolving ai.stanford.edu (ai.stanford.edu)... 171.64.68.10\n",
            "Connecting to ai.stanford.edu (ai.stanford.edu)|171.64.68.10|:443... connected.\n",
            "HTTP request sent, awaiting response... 200 OK\n",
            "Length: 84125825 (80M) [application/x-gzip]\n",
            "Saving to: ‘aclImdb_v1.tar.gz’\n",
            "\n",
            "aclImdb_v1.tar.gz   100%[===================>]  80.23M  8.91MB/s    in 19s     \n",
            "\n",
            "2024-06-12 20:56:22 (4.12 MB/s) - ‘aclImdb_v1.tar.gz’ saved [84125825/84125825]\n",
            "\n"
          ]
        }
      ],
      "source": [
        "!wget $url -O $dataset_path\n",
        "!tar -xzf $dataset_path"
      ]
    },
    {
      "cell_type": "markdown",
      "metadata": {
        "id": "atfqrtltMnRl"
      },
      "source": [
        "**6º Criar função para carregar as avaliações em um dt**"
      ]
    },
    {
      "cell_type": "code",
      "execution_count": 27,
      "metadata": {
        "id": "AKAq8RdOKHRt"
      },
      "outputs": [],
      "source": [
        "def load_imdb_reviews(path):\n",
        "    import os\n",
        "    import pandas as pd\n",
        "\n",
        "    data = {'review': [], 'sentiment': []}\n",
        "\n",
        "    for sentiment in ['pos', 'neg']:\n",
        "        dir_path = os.path.join(path, 'train', sentiment)\n",
        "        \n",
        "        for filename in os.listdir(dir_path):\n",
        "            if filename.endswith('.txt'):\n",
        "                with open(os.path.join(dir_path, filename), 'r', encoding='utf-8') as f:\n",
        "                    data['review'].append(f.read())\n",
        "                    data['sentiment'].append(sentiment)\n",
        "\n",
        "    return pd.DataFrame(data)"
      ]
    },
    {
      "cell_type": "markdown",
      "metadata": {
        "id": "gZ1tDIhJMznQ"
      },
      "source": [
        "**7º Carregar as avaliações**"
      ]
    },
    {
      "cell_type": "code",
      "execution_count": 28,
      "metadata": {
        "id": "G-QwBatnKKWG"
      },
      "outputs": [],
      "source": [
        "df = load_imdb_reviews('aclImdb')"
      ]
    },
    {
      "cell_type": "markdown",
      "metadata": {
        "id": "LFthVzWAM9eC"
      },
      "source": [
        "**8º Tokenização dos textos**"
      ]
    },
    {
      "cell_type": "code",
      "execution_count": 29,
      "metadata": {
        "id": "nK8WKVEiKNYb"
      },
      "outputs": [],
      "source": [
        "df['tokens'] = df['review'].apply(word_tokenize)"
      ]
    },
    {
      "cell_type": "markdown",
      "metadata": {
        "id": "WDPIW1YONCOW"
      },
      "source": [
        "**9º Remover stop words**"
      ]
    },
    {
      "cell_type": "code",
      "execution_count": 30,
      "metadata": {
        "id": "wUEa-emVKPvv"
      },
      "outputs": [],
      "source": [
        "stop_words = set(stopwords.words('english'))\n",
        "df['filtered_tokens'] = df['tokens'].apply(lambda tokens: [token for token in tokens if token.lower() not in stop_words and token.isalpha()])"
      ]
    },
    {
      "cell_type": "markdown",
      "metadata": {
        "id": "0c8Pyk6MNFpN"
      },
      "source": [
        "**10º Criar função para juntar tokens novamente em um texto limpo**"
      ]
    },
    {
      "cell_type": "code",
      "execution_count": 31,
      "metadata": {
        "id": "fhib2gn9KeJc"
      },
      "outputs": [],
      "source": [
        "df['cleaned_review'] = df['filtered_tokens'].apply(lambda tokens: ' '.join(tokens))"
      ]
    },
    {
      "cell_type": "markdown",
      "metadata": {
        "id": "sdQXIZqiNSPE"
      },
      "source": [
        "**11º Utilizar a biblioteca VADER para análise de sentimentos**"
      ]
    },
    {
      "cell_type": "code",
      "execution_count": 32,
      "metadata": {
        "id": "c8JMHnE7Kg-Y"
      },
      "outputs": [],
      "source": [
        "sid = SentimentIntensityAnalyzer()"
      ]
    },
    {
      "cell_type": "markdown",
      "metadata": {
        "id": "e_gKUbhpNawU"
      },
      "source": [
        "**12º Analisar os sentimentos dos textos**"
      ]
    },
    {
      "cell_type": "code",
      "execution_count": 33,
      "metadata": {
        "id": "F0TdKovmKne7"
      },
      "outputs": [],
      "source": [
        "df['sentiment_scores'] = df['cleaned_review'].apply(lambda review: sid.polarity_scores(review))"
      ]
    },
    {
      "cell_type": "markdown",
      "metadata": {
        "id": "r22eWH86NfDW"
      },
      "source": [
        "**13º Extrair as pontuações de sentimento**"
      ]
    },
    {
      "cell_type": "code",
      "execution_count": 34,
      "metadata": {
        "id": "M9O_2iWpK2tW"
      },
      "outputs": [],
      "source": [
        "df['compound'] = df['sentiment_scores'].apply(lambda score_dict: score_dict['compound'])\n",
        "df['neg'] = df['sentiment_scores'].apply(lambda score_dict: score_dict['neg'])\n",
        "df['neu'] = df['sentiment_scores'].apply(lambda score_dict: score_dict['neu'])\n",
        "df['pos'] = df['sentiment_scores'].apply(lambda score_dict: score_dict['pos'])"
      ]
    },
    {
      "cell_type": "markdown",
      "metadata": {
        "id": "eEJB2xbKNkeZ"
      },
      "source": [
        "**14º Visualizar as primeiras linhas com as pontuações de sentimento**"
      ]
    },
    {
      "cell_type": "code",
      "execution_count": 35,
      "metadata": {
        "colab": {
          "base_uri": "https://localhost:8080/"
        },
        "id": "fUXD1lOoK5Dh",
        "outputId": "bbc18377-a421-451b-d18f-dbc2edb18436"
      },
      "outputs": [
        {
          "name": "stdout",
          "output_type": "stream",
          "text": [
            "                                              review sentiment  \\\n",
            "0  Sam Kleinman (Peter Falk) comes to his son's p...       pos   \n",
            "1  The combination of the superb black and white ...       pos   \n",
            "2  Rock solid giallo from a master filmmaker of t...       pos   \n",
            "3  A very refreshing story, the life of a parrot ...       pos   \n",
            "4  I am beginning to see a very consistent patter...       pos   \n",
            "\n",
            "                                              tokens  \\\n",
            "0  [Sam, Kleinman, (, Peter, Falk, ), comes, to, ...   \n",
            "1  [The, combination, of, the, superb, black, and...   \n",
            "2  [Rock, solid, giallo, from, a, master, filmmak...   \n",
            "3  [A, very, refreshing, story, ,, the, life, of,...   \n",
            "4  [I, am, beginning, to, see, a, very, consisten...   \n",
            "\n",
            "                                     filtered_tokens  \\\n",
            "0  [Sam, Kleinman, Peter, Falk, comes, son, place...   \n",
            "1  [combination, superb, black, white, photograph...   \n",
            "2  [Rock, solid, giallo, master, filmmaker, genre...   \n",
            "3  [refreshing, story, life, parrot, intellect, h...   \n",
            "4  [beginning, see, consistent, pattern, form, id...   \n",
            "\n",
            "                                      cleaned_review  \\\n",
            "0  Sam Kleinman Peter Falk comes son place son Be...   \n",
            "1  combination superb black white photography One...   \n",
            "2  Rock solid giallo master filmmaker genre Sergi...   \n",
            "3  refreshing story life parrot intellect higher ...   \n",
            "4  beginning see consistent pattern form identity...   \n",
            "\n",
            "                                    sentiment_scores  compound    neg    neu  \\\n",
            "0  {'neg': 0.0, 'neu': 0.745, 'pos': 0.255, 'comp...    0.9852  0.000  0.745   \n",
            "1  {'neg': 0.0, 'neu': 0.677, 'pos': 0.323, 'comp...    0.9769  0.000  0.677   \n",
            "2  {'neg': 0.266, 'neu': 0.591, 'pos': 0.143, 'co...   -0.9926  0.266  0.591   \n",
            "3  {'neg': 0.0, 'neu': 0.775, 'pos': 0.225, 'comp...    0.7264  0.000  0.775   \n",
            "4  {'neg': 0.114, 'neu': 0.618, 'pos': 0.268, 'co...    0.9984  0.114  0.618   \n",
            "\n",
            "     pos  \n",
            "0  0.255  \n",
            "1  0.323  \n",
            "2  0.143  \n",
            "3  0.225  \n",
            "4  0.268  \n"
          ]
        }
      ],
      "source": [
        "print(df.head())"
      ]
    },
    {
      "cell_type": "markdown",
      "metadata": {
        "id": "sbVIAm2_Nsu2"
      },
      "source": [
        "**15º Visualizar a distribuição dos sentimentos graficamente**"
      ]
    },
    {
      "cell_type": "code",
      "execution_count": 36,
      "metadata": {
        "colab": {
          "base_uri": "https://localhost:8080/",
          "height": 487
        },
        "id": "CRT4DtSLK7NT",
        "outputId": "11cdcc62-5b1e-4cd9-829c-875dfde1e064"
      },
      "outputs": [
        {
          "data": {
            "image/png": "[encoded data removed]",
            "text/plain": [
              "<Figure size 1000x500 with 1 Axes>"
            ]
          },
          "metadata": {},
          "output_type": "display_data"
        }
      ],
      "source": [
        "plt.figure(figsize=(10, 5))\n",
        "df['compound'].hist(bins=50, edgecolor='black')\n",
        "plt.title('Distribuição das Pontuações de Sentimento (Compound)')\n",
        "plt.xlabel('Pontuação de Sentimento (Compound)')\n",
        "plt.ylabel('Frequência')\n",
        "plt.show()"
      ]
    },
    {
      "cell_type": "markdown",
      "metadata": {
        "id": "fyO4AWTpNx4g"
      },
      "source": [
        "**16º Análise descritiva das pontuações de sentimento**"
      ]
    },
    {
      "cell_type": "code",
      "execution_count": 37,
      "metadata": {
        "colab": {
          "base_uri": "https://localhost:8080/"
        },
        "id": "3v-g2x2AK92t",
        "outputId": "06191aad-aebc-43e2-8ba5-360ab7e9056a"
      },
      "outputs": [
        {
          "name": "stdout",
          "output_type": "stream",
          "text": [
            "Estatísticas Descritivas das Pontuações de Sentimento:\n",
            "           compound           neg           neu           pos\n",
            "count  25000.000000  25000.000000  25000.000000  25000.000000\n",
            "mean       0.368160      0.144835      0.621130      0.234031\n",
            "std        0.767993      0.087391      0.091191      0.097160\n",
            "min       -0.999400      0.000000      0.197000      0.000000\n",
            "25%       -0.440400      0.081000      0.563000      0.166000\n",
            "50%        0.855500      0.136000      0.624000      0.223000\n",
            "75%        0.970500      0.198000      0.682000      0.291000\n",
            "max        0.999800      0.638000      1.000000      0.750000\n"
          ]
        }
      ],
      "source": [
        "print(\"Estatísticas Descritivas das Pontuações de Sentimento:\")\n",
        "print(df[['compound', 'neg', 'neu', 'pos']].describe())"
      ]
    },
    {
      "cell_type": "markdown",
      "metadata": {
        "id": "B_iFotbcN8tv"
      },
      "source": [
        "**17º Contar o número de avaliações positivas e negativas com base na computação \"compound\"**"
      ]
    },
    {
      "cell_type": "code",
      "execution_count": 38,
      "metadata": {
        "colab": {
          "base_uri": "https://localhost:8080/"
        },
        "id": "Gp9OVXgULAvd",
        "outputId": "296b01c3-f16c-497c-d8a0-92783a3bc135"
      },
      "outputs": [
        {
          "name": "stdout",
          "output_type": "stream",
          "text": [
            "Contagem de Avaliações Preditas como Positivas e Negativas:\n",
            "predicted_sentiment\n",
            "pos    17465\n",
            "neg     7535\n",
            "Name: count, dtype: int64\n"
          ]
        }
      ],
      "source": [
        "df['predicted_sentiment'] = df['compound'].apply(lambda score: 'pos' if score >= 0 else 'neg')\n",
        "print(\"Contagem de Avaliações Preditas como Positivas e Negativas:\")\n",
        "print(df['predicted_sentiment'].value_counts())"
      ]
    },
    {
      "cell_type": "markdown",
      "metadata": {
        "id": "qRg31XGYOPZx"
      },
      "source": [
        "**18º Exibir algumas avaliações e suas pontuações de sentimento (mostrando apenas os primeiros caracteres do review)**"
      ]
    },
    {
      "cell_type": "code",
      "execution_count": 40,
      "metadata": {
        "colab": {
          "base_uri": "https://localhost:8080/"
        },
        "id": "H0KKS9FELDyM",
        "outputId": "495bd7c0-e7a3-4385-b3bb-81d7585f3d14"
      },
      "outputs": [
        {
          "name": "stdout",
          "output_type": "stream",
          "text": [
            "Review: ....as to the level of wit on which this comedy operates. Barely even reaching feature length, \"Can ...\n",
            "Sentimento Predito: pos\n",
            "Pontuações: {'neg': 0.112, 'neu': 0.558, 'pos': 0.331, 'compound': 0.9754}\n",
            "--------------------------------------------------\n",
            "Review: It took us a couple of episodes to \"get into\" Dark Angel as a story and a series, since we were tran...\n",
            "Sentimento Predito: neg\n",
            "Pontuações: {'neg': 0.16, 'neu': 0.682, 'pos': 0.158, 'compound': -0.0754}\n",
            "--------------------------------------------------\n",
            "Review: \"Heartland\" is a wonderful depiction of what it was really like to live on the frontier. The hard wo...\n",
            "Sentimento Predito: pos\n",
            "Pontuações: {'neg': 0.066, 'neu': 0.618, 'pos': 0.316, 'compound': 0.9738}\n",
            "--------------------------------------------------\n",
            "Review: The trick to creating a good, solid mystery story is as much a matter of timing as its about plot co...\n",
            "Sentimento Predito: pos\n",
            "Pontuações: {'neg': 0.139, 'neu': 0.591, 'pos': 0.269, 'compound': 0.9958}\n",
            "--------------------------------------------------\n",
            "Review: This 1939 film tried to capitalize on the much better Michael Curtiz's film \"Angels with Dirty Faces...\n",
            "Sentimento Predito: pos\n",
            "Pontuações: {'neg': 0.104, 'neu': 0.742, 'pos': 0.154, 'compound': 0.3089}\n",
            "--------------------------------------------------\n"
          ]
        }
      ],
      "source": [
        "for index, row in df.sample(5).iterrows():\n",
        "    print(f\"Review: {row['review'][:100]}...\")\n",
        "    print(f\"Sentimento Predito: {row['predicted_sentiment']}\")\n",
        "    print(f\"Pontuações: {row['sentiment_scores']}\")\n",
        "    print(\"-\" * 50)"
      ]
    }
  ],
  "metadata": {
    "colab": {
      "provenance": []
    },
    "kernelspec": {
      "display_name": "Python 3",
      "name": "python3"
    },
    "language_info": {
      "name": "python"
    }
  },
  "nbformat": 4,
  "nbformat_minor": 0
}
